{
  "nbformat": 4,
  "nbformat_minor": 0,
  "metadata": {
    "colab": {
      "name": "Untitled02.ipynb",
      "version": "0.3.2",
      "provenance": [],
      "collapsed_sections": [],
      "toc_visible": true
    },
    "kernelspec": {
      "name": "python3",
      "display_name": "Python 3"
    },
    "accelerator": "GPU"
  },
  "cells": [
    {
      "metadata": {
        "id": "7LesRTEBv4vr",
        "colab_type": "code",
        "colab": {}
      },
      "cell_type": "code",
      "source": [
        "!pip install -U -q kaggle\n",
        "!mkdir -p ~/.kaggle"
      ],
      "execution_count": 0,
      "outputs": []
    },
    {
      "metadata": {
        "id": "bPGAd2eow_40",
        "colab_type": "code",
        "outputId": "3c2bd215-bde3-41db-8e3c-a1889075f30c",
        "colab": {
          "base_uri": "https://localhost:8080/",
          "height": 122
        }
      },
      "cell_type": "code",
      "source": [
        "from google.colab import drive\n",
        "drive.mount('/content/drive')"
      ],
      "execution_count": 10,
      "outputs": [
        {
          "output_type": "stream",
          "text": [
            "Go to this URL in a browser: https://accounts.google.com/o/oauth2/auth?client_id=947318989803-6bn6qk8qdgf4n4g3pfee6491hc0brc4i.apps.googleusercontent.com&redirect_uri=urn%3Aietf%3Awg%3Aoauth%3A2.0%3Aoob&scope=email%20https%3A%2F%2Fwww.googleapis.com%2Fauth%2Fdocs.test%20https%3A%2F%2Fwww.googleapis.com%2Fauth%2Fdrive%20https%3A%2F%2Fwww.googleapis.com%2Fauth%2Fdrive.photos.readonly%20https%3A%2F%2Fwww.googleapis.com%2Fauth%2Fpeopleapi.readonly&response_type=code\n",
            "\n",
            "Enter your authorization code:\n",
            "··········\n",
            "Mounted at /content/drive\n"
          ],
          "name": "stdout"
        }
      ]
    },
    {
      "metadata": {
        "id": "3n0xG7i1xb7u",
        "colab_type": "code",
        "outputId": "3527e0e4-7441-4ca8-ecbc-4ee9ab905858",
        "colab": {
          "resources": {
            "http://localhost:8080/nbextensions/google.colab/files.js": {
              "data": "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",
              "ok": true,
              "headers": [
                [
                  "content-type",
                  "application/javascript"
                ]
              ],
              "status": 200,
              "status_text": ""
            }
          },
          "base_uri": "https://localhost:8080/",
          "height": 52
        }
      },
      "cell_type": "code",
      "source": [
        "from google.colab import files\n",
        "files.upload()"
      ],
      "execution_count": 11,
      "outputs": [
        {
          "output_type": "display_data",
          "data": {
            "text/html": [
              "\n",
              "     <input type=\"file\" id=\"files-2895623c-1ab4-49c4-9441-64443fe70138\" name=\"files[]\" multiple disabled />\n",
              "     <output id=\"result-2895623c-1ab4-49c4-9441-64443fe70138\">\n",
              "      Upload widget is only available when the cell has been executed in the\n",
              "      current browser session. Please rerun this cell to enable.\n",
              "      </output>\n",
              "      <script src=\"/nbextensions/google.colab/files.js\"></script> "
            ],
            "text/plain": [
              "<IPython.core.display.HTML object>"
            ]
          },
          "metadata": {
            "tags": []
          }
        },
        {
          "output_type": "execute_result",
          "data": {
            "text/plain": [
              "{}"
            ]
          },
          "metadata": {
            "tags": []
          },
          "execution_count": 11
        }
      ]
    },
    {
      "metadata": {
        "id": "ucS5o1tjyEjz",
        "colab_type": "code",
        "outputId": "c71103b2-5ede-4d73-8508-fafc1f8e00e7",
        "colab": {
          "base_uri": "https://localhost:8080/",
          "height": 34
        }
      },
      "cell_type": "code",
      "source": [
        "!cp kaggle.json ~/.kaggle/\n"
      ],
      "execution_count": 12,
      "outputs": [
        {
          "output_type": "stream",
          "text": [
            "cp: cannot stat 'kaggle.json': No such file or directory\n"
          ],
          "name": "stdout"
        }
      ]
    },
    {
      "metadata": {
        "id": "bFssbxi9yLZM",
        "colab_type": "code",
        "outputId": "6d34d519-0009-4d37-ff0b-99cd34ce3bfd",
        "colab": {
          "base_uri": "https://localhost:8080/",
          "height": 153
        }
      },
      "cell_type": "code",
      "source": [
        "!kaggle datasets download -d nih-chest-xrays/sample"
      ],
      "execution_count": 13,
      "outputs": [
        {
          "output_type": "stream",
          "text": [
            "Traceback (most recent call last):\n",
            "  File \"/usr/local/bin/kaggle\", line 7, in <module>\n",
            "    from kaggle.cli import main\n",
            "  File \"/usr/local/lib/python3.6/dist-packages/kaggle/__init__.py\", line 23, in <module>\n",
            "    api.authenticate()\n",
            "  File \"/usr/local/lib/python3.6/dist-packages/kaggle/api/kaggle_api_extended.py\", line 113, in authenticate\n",
            "    self.config_file, self.config_dir))\n",
            "OSError: Could not find kaggle.json. Make sure it's located in /root/.kaggle. Or use the environment method.\n"
          ],
          "name": "stdout"
        }
      ]
    },
    {
      "metadata": {
        "id": "zOV6PsSiyNZa",
        "colab_type": "code",
        "colab": {
          "base_uri": "https://localhost:8080/",
          "height": 334
        },
        "outputId": "7496bd9d-e474-4e32-b21b-c7559b5e10ea"
      },
      "cell_type": "code",
      "source": [
        "import zipfile\n",
        "zip_ref = zipfile.ZipFile('sample.zip', 'r')\n",
        "zip_ref.extractall('/')\n",
        "zip_ref.close()\n"
      ],
      "execution_count": 14,
      "outputs": [
        {
          "output_type": "error",
          "ename": "FileNotFoundError",
          "evalue": "ignored",
          "traceback": [
            "\u001b[0;31m---------------------------------------------------------------------------\u001b[0m",
            "\u001b[0;31mFileNotFoundError\u001b[0m                         Traceback (most recent call last)",
            "\u001b[0;32m<ipython-input-14-d97391ab7548>\u001b[0m in \u001b[0;36m<module>\u001b[0;34m()\u001b[0m\n\u001b[1;32m      1\u001b[0m \u001b[0;32mimport\u001b[0m \u001b[0mzipfile\u001b[0m\u001b[0;34m\u001b[0m\u001b[0;34m\u001b[0m\u001b[0m\n\u001b[0;32m----> 2\u001b[0;31m \u001b[0mzip_ref\u001b[0m \u001b[0;34m=\u001b[0m \u001b[0mzipfile\u001b[0m\u001b[0;34m.\u001b[0m\u001b[0mZipFile\u001b[0m\u001b[0;34m(\u001b[0m\u001b[0;34m'sample.zip'\u001b[0m\u001b[0;34m,\u001b[0m \u001b[0;34m'r'\u001b[0m\u001b[0;34m)\u001b[0m\u001b[0;34m\u001b[0m\u001b[0;34m\u001b[0m\u001b[0m\n\u001b[0m\u001b[1;32m      3\u001b[0m \u001b[0mzip_ref\u001b[0m\u001b[0;34m.\u001b[0m\u001b[0mextractall\u001b[0m\u001b[0;34m(\u001b[0m\u001b[0;34m'/'\u001b[0m\u001b[0;34m)\u001b[0m\u001b[0;34m\u001b[0m\u001b[0;34m\u001b[0m\u001b[0m\n\u001b[1;32m      4\u001b[0m \u001b[0mzip_ref\u001b[0m\u001b[0;34m.\u001b[0m\u001b[0mclose\u001b[0m\u001b[0;34m(\u001b[0m\u001b[0;34m)\u001b[0m\u001b[0;34m\u001b[0m\u001b[0;34m\u001b[0m\u001b[0m\n",
            "\u001b[0;32m/usr/lib/python3.6/zipfile.py\u001b[0m in \u001b[0;36m__init__\u001b[0;34m(self, file, mode, compression, allowZip64)\u001b[0m\n\u001b[1;32m   1111\u001b[0m             \u001b[0;32mwhile\u001b[0m \u001b[0;32mTrue\u001b[0m\u001b[0;34m:\u001b[0m\u001b[0;34m\u001b[0m\u001b[0;34m\u001b[0m\u001b[0m\n\u001b[1;32m   1112\u001b[0m                 \u001b[0;32mtry\u001b[0m\u001b[0;34m:\u001b[0m\u001b[0;34m\u001b[0m\u001b[0;34m\u001b[0m\u001b[0m\n\u001b[0;32m-> 1113\u001b[0;31m                     \u001b[0mself\u001b[0m\u001b[0;34m.\u001b[0m\u001b[0mfp\u001b[0m \u001b[0;34m=\u001b[0m \u001b[0mio\u001b[0m\u001b[0;34m.\u001b[0m\u001b[0mopen\u001b[0m\u001b[0;34m(\u001b[0m\u001b[0mfile\u001b[0m\u001b[0;34m,\u001b[0m \u001b[0mfilemode\u001b[0m\u001b[0;34m)\u001b[0m\u001b[0;34m\u001b[0m\u001b[0;34m\u001b[0m\u001b[0m\n\u001b[0m\u001b[1;32m   1114\u001b[0m                 \u001b[0;32mexcept\u001b[0m \u001b[0mOSError\u001b[0m\u001b[0;34m:\u001b[0m\u001b[0;34m\u001b[0m\u001b[0;34m\u001b[0m\u001b[0m\n\u001b[1;32m   1115\u001b[0m                     \u001b[0;32mif\u001b[0m \u001b[0mfilemode\u001b[0m \u001b[0;32min\u001b[0m \u001b[0mmodeDict\u001b[0m\u001b[0;34m:\u001b[0m\u001b[0;34m\u001b[0m\u001b[0;34m\u001b[0m\u001b[0m\n",
            "\u001b[0;31mFileNotFoundError\u001b[0m: [Errno 2] No such file or directory: 'sample.zip'"
          ]
        }
      ]
    },
    {
      "metadata": {
        "id": "aUiNribr1EkE",
        "colab_type": "code",
        "outputId": "d4f40b80-4227-44c2-a63a-fe2f051c9a42",
        "colab": {
          "base_uri": "https://localhost:8080/",
          "height": 34
        }
      },
      "cell_type": "code",
      "source": [
        "!unzip sample.zip -d \"drive/My Drive/NIH_dataset/images\"\n"
      ],
      "execution_count": 42,
      "outputs": [
        {
          "output_type": "stream",
          "text": [
            "unzip:  cannot find or open sample.zip, sample.zip.zip or sample.zip.ZIP.\n"
          ],
          "name": "stdout"
        }
      ]
    },
    {
      "metadata": {
        "id": "ZGB-8pMs3QEA",
        "colab_type": "code",
        "colab": {
          "base_uri": "https://localhost:8080/",
          "height": 34
        },
        "outputId": "913c0f9d-55b1-40fc-c666-81472d2a67b3"
      },
      "cell_type": "code",
      "source": [
        "!mkdir NIH_data"
      ],
      "execution_count": 41,
      "outputs": [
        {
          "output_type": "stream",
          "text": [
            "mkdir: cannot create directory ‘NIH_data’: File exists\n"
          ],
          "name": "stdout"
        }
      ]
    },
    {
      "metadata": {
        "id": "oWwqU5aa3wK9",
        "colab_type": "code",
        "colab": {}
      },
      "cell_type": "code",
      "source": [
        "import os\n",
        "import glob\n",
        "import cv2\n"
      ],
      "execution_count": 0,
      "outputs": []
    },
    {
      "metadata": {
        "id": "bo7o_hr636TT",
        "colab_type": "code",
        "outputId": "8c81cc8e-4c5b-443a-be02-d4f271ea226a",
        "colab": {
          "base_uri": "https://localhost:8080/",
          "height": 34
        }
      },
      "cell_type": "code",
      "source": [
        "images_path = glob.glob('/NIH_data/images/'+'*.png')\n",
        "print(images_path)\n",
        "i = 0\n",
        "for img in images_path:\n",
        "  img_file = cv2.imread(img)\n",
        "  resized_image = cv2.resize(img_file,(256,256))\n",
        "  "
      ],
      "execution_count": 43,
      "outputs": [
        {
          "output_type": "stream",
          "text": [
            "[]\n"
          ],
          "name": "stdout"
        }
      ]
    },
    {
      "metadata": {
        "id": "M3wz_4066if_",
        "colab_type": "code",
        "colab": {}
      },
      "cell_type": "code",
      "source": [
        "#!mv images \"drive/My Drive/NIH_dataset\""
      ],
      "execution_count": 0,
      "outputs": []
    },
    {
      "metadata": {
        "id": "970Bkfxt6mAE",
        "colab_type": "code",
        "colab": {}
      },
      "cell_type": "code",
      "source": [
        "import os\n",
        "import pandas as pd\n",
        "import glob\n",
        "import numpy as np\n",
        "import tensorflow\n",
        "from keras.layers import Conv2D, MaxPooling2D, Flatten, Dense\n",
        "from keras.models import load_model, Model, Sequential"
      ],
      "execution_count": 0,
      "outputs": []
    },
    {
      "metadata": {
        "id": "L9y9d2Te_FKN",
        "colab_type": "code",
        "colab": {}
      },
      "cell_type": "code",
      "source": [
        "#PATH = os.path.abspath(os.path.join('', 'drive/My Drive/NIH_dataset/images/images'))\n",
        "#images = glob.glob(os.path.join(PATH, \"*.png\"))"
      ],
      "execution_count": 0,
      "outputs": []
    },
    {
      "metadata": {
        "id": "66nJJQAqEzJD",
        "colab_type": "code",
        "colab": {}
      },
      "cell_type": "code",
      "source": [
        ""
      ],
      "execution_count": 0,
      "outputs": []
    },
    {
      "metadata": {
        "id": "IZMhXIsZBXJf",
        "colab_type": "code",
        "outputId": "34e56a58-431b-4268-9702-702332d38299",
        "colab": {
          "base_uri": "https://localhost:8080/",
          "height": 71
        }
      },
      "cell_type": "code",
      "source": [
        "labels = pd.read_csv('drive/My Drive/NIH_dataset/sample_labels.csv')\n",
        "PATH = os.path.abspath(os.path.join('', 'drive/My Drive/NIH_dataset/images/images'))\n",
        "print(PATH)\n",
        "images = {os.path.basename(x): x for x in \n",
        "                   glob.glob(os.path.join(PATH, \"*.png\"))}\n",
        "\n",
        "labels['path'] = labels['Image Index'].map(images.get)\n",
        "labels['Patient Age'] = labels['Patient Age'].map(lambda x: int(x[:-1]))\n",
        "label_counts = labels['Finding Labels'].value_counts()[:15]\n",
        "labels['Finding Labels'] = labels['Finding Labels'].map(lambda x: x.replace('No Finding', ''))\n",
        "\n",
        "from itertools import chain\n",
        "all_labels = np.unique(list(chain(*labels['Finding Labels'].map(lambda x: x.split('|')).tolist())))\n",
        "all_labels = [x for x in all_labels if len(x)>0]\n",
        "\n",
        "\n",
        "#the classes as the headers\n",
        "for c_label in all_labels:\n",
        "    if len(c_label)>1: # leave out empty labels\n",
        "        labels[c_label] = labels['Finding Labels'].map(lambda finding: 1.0 if c_label in finding else 0)\n",
        "        \n",
        "        \n",
        "MIN_CASES = 99\n",
        "all_labels = [c_label for c_label in all_labels if labels[c_label].sum()>MIN_CASES]\n",
        "print('Clean Labels ({})'.format(len(all_labels)), \n",
        "      [(c_label,int(labels[c_label].sum())) for c_label in all_labels])"
      ],
      "execution_count": 45,
      "outputs": [
        {
          "output_type": "stream",
          "text": [
            "/content/drive/My Drive/NIH_dataset/images/images\n",
            "Clean Labels (11) [('Atelectasis', 508), ('Cardiomegaly', 141), ('Consolidation', 226), ('Edema', 118), ('Effusion', 644), ('Emphysema', 127), ('Infiltration', 967), ('Mass', 284), ('Nodule', 313), ('Pleural_Thickening', 176), ('Pneumothorax', 271)]\n"
          ],
          "name": "stdout"
        }
      ]
    },
    {
      "metadata": {
        "id": "DgLVydKRkul0",
        "colab_type": "code",
        "colab": {}
      },
      "cell_type": "code",
      "source": [
        ""
      ],
      "execution_count": 0,
      "outputs": []
    },
    {
      "metadata": {
        "id": "inj0RU44B717",
        "colab_type": "code",
        "colab": {}
      },
      "cell_type": "code",
      "source": [
        "sample_weights = labels['Finding Labels'].map(lambda x: len(x.split('|')) if len(x)>0 else 0).values + 4e-2\n",
        "sample_weights /= sample_weights.sum()\n",
        "labels = labels.sample(5606, weights=sample_weights)"
      ],
      "execution_count": 0,
      "outputs": []
    },
    {
      "metadata": {
        "id": "sNuigHtwCDi9",
        "colab_type": "code",
        "colab": {}
      },
      "cell_type": "code",
      "source": [
        "labels['disease_vec'] = labels.apply(lambda x: [x[all_labels].values], 1).map(lambda x: x[0])"
      ],
      "execution_count": 0,
      "outputs": []
    },
    {
      "metadata": {
        "id": "hNJ84jnoCGnd",
        "colab_type": "code",
        "outputId": "ed65bd99-7b69-4582-fc9c-a2d2aba4253b",
        "colab": {
          "base_uri": "https://localhost:8080/",
          "height": 34
        }
      },
      "cell_type": "code",
      "source": [
        "from sklearn.model_selection import train_test_split\n",
        "train, validation = train_test_split(labels, \n",
        "                                test_size = 0.30, \n",
        "                                   random_state = 2018,\n",
        "                                   stratify = labels['Finding Labels'].map(lambda x: x[:4]))\n",
        "print('train', train.shape[0], 'validation', validation.shape[0])"
      ],
      "execution_count": 23,
      "outputs": [
        {
          "output_type": "stream",
          "text": [
            "train 3924 validation 1682\n"
          ],
          "name": "stdout"
        }
      ]
    },
    {
      "metadata": {
        "id": "49Eb0QAECNkV",
        "colab_type": "code",
        "colab": {}
      },
      "cell_type": "code",
      "source": [
        "from keras.preprocessing.image import ImageDataGenerator\n",
        "IMG_SIZE = (256, 256)\n",
        "core_idg = ImageDataGenerator(samplewise_center=True, \n",
        "                              samplewise_std_normalization=True, \n",
        "                              horizontal_flip = True, \n",
        "                              vertical_flip = False, \n",
        "                              height_shift_range= 0.05, \n",
        "                              width_shift_range=0.1, \n",
        "                              rotation_range=5, \n",
        "                              shear_range = 0.1,\n",
        "                              fill_mode = 'reflect',\n",
        "                              zoom_range=0.15)"
      ],
      "execution_count": 0,
      "outputs": []
    },
    {
      "metadata": {
        "id": "V6yhJ50pCSB_",
        "colab_type": "code",
        "colab": {}
      },
      "cell_type": "code",
      "source": [
        "def flow_from_dataframe(img_data_gen, in_df, path_col, y_col, **dflow_args):\n",
        "    base_dir = os.path.dirname(in_df[path_col].values[0])\n",
        "    print('## Ignore next message from keras, values are replaced anyways')\n",
        "    df_gen = img_data_gen.flow_from_directory(base_dir, \n",
        "                                     class_mode = 'sparse',\n",
        "                                    **dflow_args)\n",
        "    df_gen.filenames = in_df[path_col].values\n",
        "    df_gen.classes = np.stack(in_df[y_col].values)\n",
        "    df_gen.samples = in_df.shape[0]    \n",
        "    df_gen.n = in_df.shape[0]\n",
        "    df_gen._set_index_array()\n",
        "    df_gen.directory = '' # since we have the full path\n",
        "    print('Reinserting dataframe: {} images'.format(in_df.shape[0]))\n",
        "    return df_gen"
      ],
      "execution_count": 0,
      "outputs": []
    },
    {
      "metadata": {
        "id": "2Fbgi0ysCVC4",
        "colab_type": "code",
        "outputId": "3e2345c6-6510-448e-8acb-3346a876f838",
        "colab": {
          "base_uri": "https://localhost:8080/",
          "height": 170
        }
      },
      "cell_type": "code",
      "source": [
        "train_gen = flow_from_dataframe(core_idg, train, \n",
        "                             path_col = 'path',\n",
        "                            y_col = 'disease_vec', \n",
        "                            target_size = IMG_SIZE,\n",
        "                             color_mode = 'grayscale',\n",
        "                            batch_size = 32)\n",
        "\n",
        "valid_gen = flow_from_dataframe(core_idg, validation, \n",
        "                             path_col = 'path',\n",
        "                            y_col = 'disease_vec', \n",
        "                            target_size = IMG_SIZE,\n",
        "                             color_mode = 'grayscale',\n",
        "                            batch_size = 64) # we can use much larger batches for evaluation\n",
        "# used a fixed dataset for evaluating the algorithm\n",
        "test_X, test_Y = next(flow_from_dataframe(core_idg, \n",
        "                               validation, \n",
        "                             path_col = 'path',\n",
        "                            y_col = 'disease_vec', \n",
        "                            target_size = IMG_SIZE,\n",
        "                             color_mode = 'grayscale',\n",
        "                            batch_size = 256)) # one big batch"
      ],
      "execution_count": 26,
      "outputs": [
        {
          "output_type": "stream",
          "text": [
            "## Ignore next message from keras, values are replaced anyways\n",
            "Found 0 images belonging to 0 classes.\n",
            "Reinserting dataframe: 3924 images\n",
            "## Ignore next message from keras, values are replaced anyways\n",
            "Found 0 images belonging to 0 classes.\n",
            "Reinserting dataframe: 1682 images\n",
            "## Ignore next message from keras, values are replaced anyways\n",
            "Found 0 images belonging to 0 classes.\n",
            "Reinserting dataframe: 1682 images\n"
          ],
          "name": "stdout"
        }
      ]
    },
    {
      "metadata": {
        "id": "5iun0_NOyFTf",
        "colab_type": "code",
        "colab": {}
      },
      "cell_type": "code",
      "source": [
        "def create_model(all_labels):\n",
        "    classifier = Sequential()\n",
        "# Step 1 - Convolution\n",
        "    classifier.add(Conv2D(64, (3, 3), input_shape = (256, 256, 1), activation = 'relu'))\n",
        "    classifier.add(Conv2D(64, (3, 3), activation = 'relu'))\n",
        "    classifier.add(MaxPooling2D(pool_size=(2, 2)))\n",
        "    classifier.add(Conv2D(128, (3, 3), activation = 'relu'))\n",
        "    classifier.add(Conv2D(128, (3, 3), activation = 'relu'))\n",
        "    classifier.add(MaxPooling2D(pool_size=(2, 2)))\n",
        "    classifier.add(Conv2D(64, (3, 3), activation = 'relu'))\n",
        "    classifier.add(Conv2D(64, (3, 3), activation = 'relu'))\n",
        "    classifier.add(MaxPooling2D(pool_size=(2, 2)))\n",
        "    classifier.add(Conv2D(64, (3, 3), activation = 'relu'))\n",
        "    classifier.add(Flatten())\n",
        "# Step 3 - Dense layer\n",
        "    classifier.add(Dense(units = 128, activation = 'relu'))\n",
        "    classifier.add(Dense(units = 64, activation = 'relu'))\n",
        "    classifier.add(Dense(units = len(all_labels), activation = 'sigmoid'))\n",
        "# Compiling the CNN\n",
        "    classifier.compile(optimizer = 'adam', loss = 'binary_crossentropy', metrics = ['accuracy'])\n",
        "    classifier.summary()\n",
        "    return classifier\n",
        "#for categorical entropy, as the loss function accuracy was low, ans activation as softmax, acuuracy was low,\n",
        "# for LetNET the accuracy around 12-15%"
      ],
      "execution_count": 0,
      "outputs": []
    },
    {
      "metadata": {
        "id": "oboBq6NpyYtV",
        "colab_type": "code",
        "colab": {}
      },
      "cell_type": "code",
      "source": [
        "from keras.callbacks import ModelCheckpoint, LearningRateScheduler, EarlyStopping, ReduceLROnPlateau\n",
        "#weight_path=\"{}_weights.best.hdf5\".format('xray_class')\n",
        "\n",
        "#checkpoint = ModelCheckpoint(weight_path, monitor='val_loss', verbose=1, \n",
        "                            # save_best_only=True, mode='min', save_weights_only = True)\n",
        "\n",
        "early = EarlyStopping(monitor=\"val_loss\", \n",
        "                      mode=\"min\", \n",
        "                      patience=3)\n",
        "callbacks_list = [early]"
      ],
      "execution_count": 0,
      "outputs": []
    },
    {
      "metadata": {
        "id": "yQuCOJ3eyrUK",
        "colab_type": "code",
        "outputId": "ed612f30-d38c-4909-8e47-5217cd55d096",
        "colab": {
          "base_uri": "https://localhost:8080/",
          "height": 34
        }
      },
      "cell_type": "code",
      "source": [
        "from keras import backend as K\n",
        "K.tensorflow_backend._get_available_gpus()"
      ],
      "execution_count": 29,
      "outputs": [
        {
          "output_type": "execute_result",
          "data": {
            "text/plain": [
              "['/job:localhost/replica:0/task:0/device:GPU:0']"
            ]
          },
          "metadata": {
            "tags": []
          },
          "execution_count": 29
        }
      ]
    },
    {
      "metadata": {
        "id": "uzIfyEwGyos5",
        "colab_type": "code",
        "outputId": "2dc849c1-0315-4161-d2b8-e518e710ad0a",
        "colab": {
          "base_uri": "https://localhost:8080/",
          "height": 802
        }
      },
      "cell_type": "code",
      "source": [
        "classifier = create_model(all_labels)\n",
        "history = classifier.fit_generator(train_gen, \n",
        "                                  steps_per_epoch=100,\n",
        "                                  validation_data = (test_X, test_Y), \n",
        "                                  epochs = 5, \n",
        "                                  callbacks = callbacks_list)\n"
      ],
      "execution_count": 30,
      "outputs": [
        {
          "output_type": "stream",
          "text": [
            "_________________________________________________________________\n",
            "Layer (type)                 Output Shape              Param #   \n",
            "=================================================================\n",
            "conv2d_1 (Conv2D)            (None, 254, 254, 64)      640       \n",
            "_________________________________________________________________\n",
            "conv2d_2 (Conv2D)            (None, 252, 252, 64)      36928     \n",
            "_________________________________________________________________\n",
            "max_pooling2d_1 (MaxPooling2 (None, 126, 126, 64)      0         \n",
            "_________________________________________________________________\n",
            "conv2d_3 (Conv2D)            (None, 124, 124, 128)     73856     \n",
            "_________________________________________________________________\n",
            "conv2d_4 (Conv2D)            (None, 122, 122, 128)     147584    \n",
            "_________________________________________________________________\n",
            "max_pooling2d_2 (MaxPooling2 (None, 61, 61, 128)       0         \n",
            "_________________________________________________________________\n",
            "conv2d_5 (Conv2D)            (None, 59, 59, 64)        73792     \n",
            "_________________________________________________________________\n",
            "conv2d_6 (Conv2D)            (None, 57, 57, 64)        36928     \n",
            "_________________________________________________________________\n",
            "max_pooling2d_3 (MaxPooling2 (None, 28, 28, 64)        0         \n",
            "_________________________________________________________________\n",
            "conv2d_7 (Conv2D)            (None, 26, 26, 64)        36928     \n",
            "_________________________________________________________________\n",
            "flatten_1 (Flatten)          (None, 43264)             0         \n",
            "_________________________________________________________________\n",
            "dense_1 (Dense)              (None, 128)               5537920   \n",
            "_________________________________________________________________\n",
            "dense_2 (Dense)              (None, 64)                8256      \n",
            "_________________________________________________________________\n",
            "dense_3 (Dense)              (None, 11)                715       \n",
            "=================================================================\n",
            "Total params: 5,953,547\n",
            "Trainable params: 5,953,547\n",
            "Non-trainable params: 0\n",
            "_________________________________________________________________\n",
            "Epoch 1/5\n",
            "100/100 [==============================] - 2212s 22s/step - loss: 0.2328 - acc: 0.9337 - val_loss: 0.2058 - val_acc: 0.9379\n",
            "Epoch 2/5\n",
            "100/100 [==============================] - 564s 6s/step - loss: 0.2162 - acc: 0.9382 - val_loss: 0.2104 - val_acc: 0.9379\n",
            "Epoch 3/5\n",
            "100/100 [==============================] - 82s 822ms/step - loss: 0.2118 - acc: 0.9383 - val_loss: 0.2114 - val_acc: 0.9379\n",
            "Epoch 4/5\n",
            "100/100 [==============================] - 82s 817ms/step - loss: 0.2124 - acc: 0.9384 - val_loss: 0.2000 - val_acc: 0.9379\n",
            "Epoch 5/5\n",
            "100/100 [==============================] - 81s 812ms/step - loss: 0.2119 - acc: 0.9390 - val_loss: 0.2028 - val_acc: 0.9379\n"
          ],
          "name": "stdout"
        }
      ]
    },
    {
      "metadata": {
        "id": "EwOpjgQ_nT5u",
        "colab_type": "code",
        "colab": {}
      },
      "cell_type": "code",
      "source": [
        "!pip install -U -q PyDrive\n",
        "from pydrive.auth import GoogleAuth\n",
        "from pydrive.drive import GoogleDrive \n",
        "from google.colab import auth \n",
        "from oauth2client.client import GoogleCredentials\n"
      ],
      "execution_count": 0,
      "outputs": []
    },
    {
      "metadata": {
        "id": "LjT2n_D460ls",
        "colab_type": "code",
        "colab": {}
      },
      "cell_type": "code",
      "source": [
        "auth.authenticate_user()\n",
        "gauth = GoogleAuth()\n",
        "gauth.credentials = GoogleCredentials.get_application_default()                       \n",
        "drive = GoogleDrive(gauth)"
      ],
      "execution_count": 0,
      "outputs": []
    },
    {
      "metadata": {
        "id": "UPv_Ygu_65ME",
        "colab_type": "code",
        "colab": {}
      },
      "cell_type": "code",
      "source": [
        "classifier.save('model_2.h5')\n",
        "model_file = drive.CreateFile({'title' : 'model_2.h5'})"
      ],
      "execution_count": 0,
      "outputs": []
    },
    {
      "metadata": {
        "id": "zTdxQAHx69Qu",
        "colab_type": "code",
        "outputId": "520254d9-2066-485a-f1da-ed4a8a73f10c",
        "colab": {
          "base_uri": "https://localhost:8080/",
          "height": 34
        }
      },
      "cell_type": "code",
      "source": [
        "drive.CreateFile({'id': model_file.get('id')})"
      ],
      "execution_count": 34,
      "outputs": [
        {
          "output_type": "execute_result",
          "data": {
            "text/plain": [
              "GoogleDriveFile({'id': None})"
            ]
          },
          "metadata": {
            "tags": []
          },
          "execution_count": 34
        }
      ]
    },
    {
      "metadata": {
        "id": "dFFkspqN7BCL",
        "colab_type": "code",
        "outputId": "25111f52-f9f7-4af0-b6ae-1f74a1f6b3de",
        "colab": {
          "base_uri": "https://localhost:8080/",
          "height": 1017
        }
      },
      "cell_type": "code",
      "source": [
        "file_obj = drive.CreateFile({'id': 'None'})                      \n",
        "file_obj.GetContentFile('keras.h5')\n"
      ],
      "execution_count": 35,
      "outputs": [
        {
          "output_type": "error",
          "ename": "ApiRequestError",
          "evalue": "ignored",
          "traceback": [
            "\u001b[0;31m---------------------------------------------------------------------------\u001b[0m",
            "\u001b[0;31mHttpError\u001b[0m                                 Traceback (most recent call last)",
            "\u001b[0;32m/usr/local/lib/python3.6/dist-packages/pydrive/files.py\u001b[0m in \u001b[0;36mFetchMetadata\u001b[0;34m(self, fields, fetch_all)\u001b[0m\n\u001b[1;32m    236\u001b[0m                                                  fields=fields)\\\n\u001b[0;32m--> 237\u001b[0;31m           \u001b[0;34m.\u001b[0m\u001b[0mexecute\u001b[0m\u001b[0;34m(\u001b[0m\u001b[0mhttp\u001b[0m\u001b[0;34m=\u001b[0m\u001b[0mself\u001b[0m\u001b[0;34m.\u001b[0m\u001b[0mhttp\u001b[0m\u001b[0;34m)\u001b[0m\u001b[0;34m\u001b[0m\u001b[0;34m\u001b[0m\u001b[0m\n\u001b[0m\u001b[1;32m    238\u001b[0m       \u001b[0;32mexcept\u001b[0m \u001b[0merrors\u001b[0m\u001b[0;34m.\u001b[0m\u001b[0mHttpError\u001b[0m \u001b[0;32mas\u001b[0m \u001b[0merror\u001b[0m\u001b[0;34m:\u001b[0m\u001b[0;34m\u001b[0m\u001b[0;34m\u001b[0m\u001b[0m\n",
            "\u001b[0;32m/usr/local/lib/python3.6/dist-packages/googleapiclient/_helpers.py\u001b[0m in \u001b[0;36mpositional_wrapper\u001b[0;34m(*args, **kwargs)\u001b[0m\n\u001b[1;32m    129\u001b[0m                     \u001b[0mlogger\u001b[0m\u001b[0;34m.\u001b[0m\u001b[0mwarning\u001b[0m\u001b[0;34m(\u001b[0m\u001b[0mmessage\u001b[0m\u001b[0;34m)\u001b[0m\u001b[0;34m\u001b[0m\u001b[0;34m\u001b[0m\u001b[0m\n\u001b[0;32m--> 130\u001b[0;31m             \u001b[0;32mreturn\u001b[0m \u001b[0mwrapped\u001b[0m\u001b[0;34m(\u001b[0m\u001b[0;34m*\u001b[0m\u001b[0margs\u001b[0m\u001b[0;34m,\u001b[0m \u001b[0;34m**\u001b[0m\u001b[0mkwargs\u001b[0m\u001b[0;34m)\u001b[0m\u001b[0;34m\u001b[0m\u001b[0;34m\u001b[0m\u001b[0m\n\u001b[0m\u001b[1;32m    131\u001b[0m         \u001b[0;32mreturn\u001b[0m \u001b[0mpositional_wrapper\u001b[0m\u001b[0;34m\u001b[0m\u001b[0;34m\u001b[0m\u001b[0m\n",
            "\u001b[0;32m/usr/local/lib/python3.6/dist-packages/googleapiclient/http.py\u001b[0m in \u001b[0;36mexecute\u001b[0;34m(self, http, num_retries)\u001b[0m\n\u001b[1;32m    839\u001b[0m     \u001b[0;32mif\u001b[0m \u001b[0mresp\u001b[0m\u001b[0;34m.\u001b[0m\u001b[0mstatus\u001b[0m \u001b[0;34m>=\u001b[0m \u001b[0;36m300\u001b[0m\u001b[0;34m:\u001b[0m\u001b[0;34m\u001b[0m\u001b[0;34m\u001b[0m\u001b[0m\n\u001b[0;32m--> 840\u001b[0;31m       \u001b[0;32mraise\u001b[0m \u001b[0mHttpError\u001b[0m\u001b[0;34m(\u001b[0m\u001b[0mresp\u001b[0m\u001b[0;34m,\u001b[0m \u001b[0mcontent\u001b[0m\u001b[0;34m,\u001b[0m \u001b[0muri\u001b[0m\u001b[0;34m=\u001b[0m\u001b[0mself\u001b[0m\u001b[0;34m.\u001b[0m\u001b[0muri\u001b[0m\u001b[0;34m)\u001b[0m\u001b[0;34m\u001b[0m\u001b[0;34m\u001b[0m\u001b[0m\n\u001b[0m\u001b[1;32m    841\u001b[0m     \u001b[0;32mreturn\u001b[0m \u001b[0mself\u001b[0m\u001b[0;34m.\u001b[0m\u001b[0mpostproc\u001b[0m\u001b[0;34m(\u001b[0m\u001b[0mresp\u001b[0m\u001b[0;34m,\u001b[0m \u001b[0mcontent\u001b[0m\u001b[0;34m)\u001b[0m\u001b[0;34m\u001b[0m\u001b[0;34m\u001b[0m\u001b[0m\n",
            "\u001b[0;31mHttpError\u001b[0m: <HttpError 404 when requesting https://www.googleapis.com/drive/v2/files/None?alt=json returned \"File not found: None\">",
            "\nDuring handling of the above exception, another exception occurred:\n",
            "\u001b[0;31mApiRequestError\u001b[0m                           Traceback (most recent call last)",
            "\u001b[0;32m<ipython-input-35-b91d1b4e0eec>\u001b[0m in \u001b[0;36m<module>\u001b[0;34m()\u001b[0m\n\u001b[1;32m      1\u001b[0m \u001b[0mfile_obj\u001b[0m \u001b[0;34m=\u001b[0m \u001b[0mdrive\u001b[0m\u001b[0;34m.\u001b[0m\u001b[0mCreateFile\u001b[0m\u001b[0;34m(\u001b[0m\u001b[0;34m{\u001b[0m\u001b[0;34m'id'\u001b[0m\u001b[0;34m:\u001b[0m \u001b[0;34m'None'\u001b[0m\u001b[0;34m}\u001b[0m\u001b[0;34m)\u001b[0m\u001b[0;34m\u001b[0m\u001b[0;34m\u001b[0m\u001b[0m\n\u001b[0;32m----> 2\u001b[0;31m \u001b[0mfile_obj\u001b[0m\u001b[0;34m.\u001b[0m\u001b[0mGetContentFile\u001b[0m\u001b[0;34m(\u001b[0m\u001b[0;34m'keras.h5'\u001b[0m\u001b[0;34m)\u001b[0m\u001b[0;34m\u001b[0m\u001b[0;34m\u001b[0m\u001b[0m\n\u001b[0m",
            "\u001b[0;32m/usr/local/lib/python3.6/dist-packages/pydrive/files.py\u001b[0m in \u001b[0;36mGetContentFile\u001b[0;34m(self, filename, mimetype, remove_bom)\u001b[0m\n\u001b[1;32m    208\u001b[0m                     \u001b[0mtype\u001b[0m\u001b[0;34m(\u001b[0m\u001b[0mself\u001b[0m\u001b[0;34m.\u001b[0m\u001b[0mcontent\u001b[0m\u001b[0;34m)\u001b[0m \u001b[0;32mis\u001b[0m \u001b[0;32mnot\u001b[0m \u001b[0mio\u001b[0m\u001b[0;34m.\u001b[0m\u001b[0mBytesIO\u001b[0m \u001b[0;32mor\u001b[0m\u001b[0;31m \u001b[0m\u001b[0;31m\\\u001b[0m\u001b[0;34m\u001b[0m\u001b[0;34m\u001b[0m\u001b[0m\n\u001b[1;32m    209\u001b[0m                     \u001b[0mself\u001b[0m\u001b[0;34m.\u001b[0m\u001b[0mhas_bom\u001b[0m \u001b[0;34m==\u001b[0m \u001b[0mremove_bom\u001b[0m\u001b[0;34m:\u001b[0m\u001b[0;34m\u001b[0m\u001b[0;34m\u001b[0m\u001b[0m\n\u001b[0;32m--> 210\u001b[0;31m       \u001b[0mself\u001b[0m\u001b[0;34m.\u001b[0m\u001b[0mFetchContent\u001b[0m\u001b[0;34m(\u001b[0m\u001b[0mmimetype\u001b[0m\u001b[0;34m,\u001b[0m \u001b[0mremove_bom\u001b[0m\u001b[0;34m)\u001b[0m\u001b[0;34m\u001b[0m\u001b[0;34m\u001b[0m\u001b[0m\n\u001b[0m\u001b[1;32m    211\u001b[0m     \u001b[0mf\u001b[0m \u001b[0;34m=\u001b[0m \u001b[0mopen\u001b[0m\u001b[0;34m(\u001b[0m\u001b[0mfilename\u001b[0m\u001b[0;34m,\u001b[0m \u001b[0;34m'wb'\u001b[0m\u001b[0;34m)\u001b[0m\u001b[0;34m\u001b[0m\u001b[0;34m\u001b[0m\u001b[0m\n\u001b[1;32m    212\u001b[0m     \u001b[0mf\u001b[0m\u001b[0;34m.\u001b[0m\u001b[0mwrite\u001b[0m\u001b[0;34m(\u001b[0m\u001b[0mself\u001b[0m\u001b[0;34m.\u001b[0m\u001b[0mcontent\u001b[0m\u001b[0;34m.\u001b[0m\u001b[0mgetvalue\u001b[0m\u001b[0;34m(\u001b[0m\u001b[0;34m)\u001b[0m\u001b[0;34m)\u001b[0m\u001b[0;34m\u001b[0m\u001b[0;34m\u001b[0m\u001b[0m\n",
            "\u001b[0;32m/usr/local/lib/python3.6/dist-packages/pydrive/files.py\u001b[0m in \u001b[0;36m_decorated\u001b[0;34m(self, *args, **kwargs)\u001b[0m\n\u001b[1;32m     40\u001b[0m   \u001b[0;32mdef\u001b[0m \u001b[0m_decorated\u001b[0m\u001b[0;34m(\u001b[0m\u001b[0mself\u001b[0m\u001b[0;34m,\u001b[0m \u001b[0;34m*\u001b[0m\u001b[0margs\u001b[0m\u001b[0;34m,\u001b[0m \u001b[0;34m**\u001b[0m\u001b[0mkwargs\u001b[0m\u001b[0;34m)\u001b[0m\u001b[0;34m:\u001b[0m\u001b[0;34m\u001b[0m\u001b[0;34m\u001b[0m\u001b[0m\n\u001b[1;32m     41\u001b[0m     \u001b[0;32mif\u001b[0m \u001b[0;32mnot\u001b[0m \u001b[0mself\u001b[0m\u001b[0;34m.\u001b[0m\u001b[0muploaded\u001b[0m\u001b[0;34m:\u001b[0m\u001b[0;34m\u001b[0m\u001b[0;34m\u001b[0m\u001b[0m\n\u001b[0;32m---> 42\u001b[0;31m       \u001b[0mself\u001b[0m\u001b[0;34m.\u001b[0m\u001b[0mFetchMetadata\u001b[0m\u001b[0;34m(\u001b[0m\u001b[0;34m)\u001b[0m\u001b[0;34m\u001b[0m\u001b[0;34m\u001b[0m\u001b[0m\n\u001b[0m\u001b[1;32m     43\u001b[0m     \u001b[0;32mreturn\u001b[0m \u001b[0mdecoratee\u001b[0m\u001b[0;34m(\u001b[0m\u001b[0mself\u001b[0m\u001b[0;34m,\u001b[0m \u001b[0;34m*\u001b[0m\u001b[0margs\u001b[0m\u001b[0;34m,\u001b[0m \u001b[0;34m**\u001b[0m\u001b[0mkwargs\u001b[0m\u001b[0;34m)\u001b[0m\u001b[0;34m\u001b[0m\u001b[0;34m\u001b[0m\u001b[0m\n\u001b[1;32m     44\u001b[0m   \u001b[0;32mreturn\u001b[0m \u001b[0m_decorated\u001b[0m\u001b[0;34m\u001b[0m\u001b[0;34m\u001b[0m\u001b[0m\n",
            "\u001b[0;32m/usr/local/lib/python3.6/dist-packages/pydrive/auth.py\u001b[0m in \u001b[0;36m_decorated\u001b[0;34m(self, *args, **kwargs)\u001b[0m\n\u001b[1;32m     73\u001b[0m       \u001b[0mself\u001b[0m\u001b[0;34m.\u001b[0m\u001b[0mhttp\u001b[0m \u001b[0;34m=\u001b[0m \u001b[0mself\u001b[0m\u001b[0;34m.\u001b[0m\u001b[0mauth\u001b[0m\u001b[0;34m.\u001b[0m\u001b[0mGet_Http_Object\u001b[0m\u001b[0;34m(\u001b[0m\u001b[0;34m)\u001b[0m\u001b[0;34m\u001b[0m\u001b[0;34m\u001b[0m\u001b[0m\n\u001b[1;32m     74\u001b[0m \u001b[0;34m\u001b[0m\u001b[0m\n\u001b[0;32m---> 75\u001b[0;31m     \u001b[0;32mreturn\u001b[0m \u001b[0mdecoratee\u001b[0m\u001b[0;34m(\u001b[0m\u001b[0mself\u001b[0m\u001b[0;34m,\u001b[0m \u001b[0;34m*\u001b[0m\u001b[0margs\u001b[0m\u001b[0;34m,\u001b[0m \u001b[0;34m**\u001b[0m\u001b[0mkwargs\u001b[0m\u001b[0;34m)\u001b[0m\u001b[0;34m\u001b[0m\u001b[0;34m\u001b[0m\u001b[0m\n\u001b[0m\u001b[1;32m     76\u001b[0m   \u001b[0;32mreturn\u001b[0m \u001b[0m_decorated\u001b[0m\u001b[0;34m\u001b[0m\u001b[0;34m\u001b[0m\u001b[0m\n\u001b[1;32m     77\u001b[0m \u001b[0;34m\u001b[0m\u001b[0m\n",
            "\u001b[0;32m/usr/local/lib/python3.6/dist-packages/pydrive/files.py\u001b[0m in \u001b[0;36mFetchMetadata\u001b[0;34m(self, fields, fetch_all)\u001b[0m\n\u001b[1;32m    237\u001b[0m           \u001b[0;34m.\u001b[0m\u001b[0mexecute\u001b[0m\u001b[0;34m(\u001b[0m\u001b[0mhttp\u001b[0m\u001b[0;34m=\u001b[0m\u001b[0mself\u001b[0m\u001b[0;34m.\u001b[0m\u001b[0mhttp\u001b[0m\u001b[0;34m)\u001b[0m\u001b[0;34m\u001b[0m\u001b[0;34m\u001b[0m\u001b[0m\n\u001b[1;32m    238\u001b[0m       \u001b[0;32mexcept\u001b[0m \u001b[0merrors\u001b[0m\u001b[0;34m.\u001b[0m\u001b[0mHttpError\u001b[0m \u001b[0;32mas\u001b[0m \u001b[0merror\u001b[0m\u001b[0;34m:\u001b[0m\u001b[0;34m\u001b[0m\u001b[0;34m\u001b[0m\u001b[0m\n\u001b[0;32m--> 239\u001b[0;31m         \u001b[0;32mraise\u001b[0m \u001b[0mApiRequestError\u001b[0m\u001b[0;34m(\u001b[0m\u001b[0merror\u001b[0m\u001b[0;34m)\u001b[0m\u001b[0;34m\u001b[0m\u001b[0;34m\u001b[0m\u001b[0m\n\u001b[0m\u001b[1;32m    240\u001b[0m       \u001b[0;32melse\u001b[0m\u001b[0;34m:\u001b[0m\u001b[0;34m\u001b[0m\u001b[0;34m\u001b[0m\u001b[0m\n\u001b[1;32m    241\u001b[0m         \u001b[0mself\u001b[0m\u001b[0;34m.\u001b[0m\u001b[0muploaded\u001b[0m \u001b[0;34m=\u001b[0m \u001b[0;32mTrue\u001b[0m\u001b[0;34m\u001b[0m\u001b[0;34m\u001b[0m\u001b[0m\n",
            "\u001b[0;31mApiRequestError\u001b[0m: <HttpError 404 when requesting https://www.googleapis.com/drive/v2/files/None?alt=json returned \"File not found: None\">"
          ]
        }
      ]
    },
    {
      "metadata": {
        "id": "ZMqV_wWYlPfh",
        "colab_type": "code",
        "outputId": "5e76b49a-4e78-4620-a51a-f3f561f3bae2",
        "colab": {
          "base_uri": "https://localhost:8080/",
          "height": 612
        }
      },
      "cell_type": "code",
      "source": [
        "classifier = create_model(all_labels)\n",
        "classifier.load_weights('drive/My Drive/model_2.h5')"
      ],
      "execution_count": 36,
      "outputs": [
        {
          "output_type": "stream",
          "text": [
            "_________________________________________________________________\n",
            "Layer (type)                 Output Shape              Param #   \n",
            "=================================================================\n",
            "conv2d_8 (Conv2D)            (None, 254, 254, 64)      640       \n",
            "_________________________________________________________________\n",
            "conv2d_9 (Conv2D)            (None, 252, 252, 64)      36928     \n",
            "_________________________________________________________________\n",
            "max_pooling2d_4 (MaxPooling2 (None, 126, 126, 64)      0         \n",
            "_________________________________________________________________\n",
            "conv2d_10 (Conv2D)           (None, 124, 124, 128)     73856     \n",
            "_________________________________________________________________\n",
            "conv2d_11 (Conv2D)           (None, 122, 122, 128)     147584    \n",
            "_________________________________________________________________\n",
            "max_pooling2d_5 (MaxPooling2 (None, 61, 61, 128)       0         \n",
            "_________________________________________________________________\n",
            "conv2d_12 (Conv2D)           (None, 59, 59, 64)        73792     \n",
            "_________________________________________________________________\n",
            "conv2d_13 (Conv2D)           (None, 57, 57, 64)        36928     \n",
            "_________________________________________________________________\n",
            "max_pooling2d_6 (MaxPooling2 (None, 28, 28, 64)        0         \n",
            "_________________________________________________________________\n",
            "conv2d_14 (Conv2D)           (None, 26, 26, 64)        36928     \n",
            "_________________________________________________________________\n",
            "flatten_2 (Flatten)          (None, 43264)             0         \n",
            "_________________________________________________________________\n",
            "dense_4 (Dense)              (None, 128)               5537920   \n",
            "_________________________________________________________________\n",
            "dense_5 (Dense)              (None, 64)                8256      \n",
            "_________________________________________________________________\n",
            "dense_6 (Dense)              (None, 11)                715       \n",
            "=================================================================\n",
            "Total params: 5,953,547\n",
            "Trainable params: 5,953,547\n",
            "Non-trainable params: 0\n",
            "_________________________________________________________________\n"
          ],
          "name": "stdout"
        }
      ]
    },
    {
      "metadata": {
        "id": "NGbA0l_dmTBX",
        "colab_type": "code",
        "outputId": "f0643348-3657-4f2a-e611-f177c980b23d",
        "colab": {
          "base_uri": "https://localhost:8080/",
          "height": 34
        }
      },
      "cell_type": "code",
      "source": [
        "pred_Y = classifier.predict(test_X, batch_size = 32, verbose = True)\n"
      ],
      "execution_count": 37,
      "outputs": [
        {
          "output_type": "stream",
          "text": [
            "256/256 [==============================] - 2s 7ms/step\n"
          ],
          "name": "stdout"
        }
      ]
    },
    {
      "metadata": {
        "id": "l8FKiKaxmhqA",
        "colab_type": "code",
        "outputId": "b25b0480-de2e-42e1-ef35-6f4604700d3d",
        "colab": {
          "base_uri": "https://localhost:8080/",
          "height": 204
        }
      },
      "cell_type": "code",
      "source": [
        "for c_label, p_count, t_count in zip(all_labels, \n",
        "                                     100*np.mean(pred_Y,0), \n",
        "                                     100*np.mean(test_Y,0)):\n",
        "    print('%s: Dx: %2.2f%%, PDx: %2.2f%%' % (c_label, t_count, p_count))"
      ],
      "execution_count": 38,
      "outputs": [
        {
          "output_type": "stream",
          "text": [
            "Atelectasis: Dx: 10.55%, PDx: 11.04%\n",
            "Cardiomegaly: Dx: 2.34%, PDx: 1.81%\n",
            "Consolidation: Dx: 2.73%, PDx: 4.64%\n",
            "Edema: Dx: 3.91%, PDx: 1.95%\n",
            "Effusion: Dx: 14.06%, PDx: 7.25%\n",
            "Emphysema: Dx: 1.17%, PDx: 1.85%\n",
            "Infiltration: Dx: 20.70%, PDx: 16.11%\n",
            "Mass: Dx: 5.08%, PDx: 4.41%\n",
            "Nodule: Dx: 2.34%, PDx: 5.48%\n",
            "Pleural_Thickening: Dx: 1.95%, PDx: 3.16%\n",
            "Pneumothorax: Dx: 3.52%, PDx: 3.79%\n"
          ],
          "name": "stdout"
        }
      ]
    },
    {
      "metadata": {
        "id": "ynhOyOP8mmN2",
        "colab_type": "code",
        "outputId": "9ce7b139-4ddb-4fc1-c6cf-4ff0b98db464",
        "colab": {
          "base_uri": "https://localhost:8080/",
          "height": 17425
        }
      },
      "cell_type": "code",
      "source": [
        "sickest_idx = np.argsort(np.sum(test_Y, 1)>1)\n",
        "for idx in sickest_idx:\n",
        "    original_tags = [n_class[:4] for n_class, n_score in zip(all_labels, \n",
        "                                                                  test_Y[idx]) \n",
        "                             if n_score>0.5]\n",
        "    pred_tag = ['%s:%2.0f%%' % (n_class[:4], p_score*100)  for n_class, n_score, p_score in zip(all_labels, \n",
        "                                                                  test_Y[idx], pred_Y[idx]) \n",
        "                             if (n_score>0.5) or (p_score>0.5)]\n",
        "    print('Original: '+', '.join(original_tags)+'\\nPredicted: '+', '.join(pred_tag))\n",
        "    print('\\n')"
      ],
      "execution_count": 39,
      "outputs": [
        {
          "output_type": "stream",
          "text": [
            "Original: \n",
            "Predicted: \n",
            "\n",
            "\n",
            "Original: \n",
            "Predicted: \n",
            "\n",
            "\n",
            "Original: \n",
            "Predicted: \n",
            "\n",
            "\n",
            "Original: Atel\n",
            "Predicted: Atel:14%\n",
            "\n",
            "\n",
            "Original: \n",
            "Predicted: \n",
            "\n",
            "\n",
            "Original: \n",
            "Predicted: \n",
            "\n",
            "\n",
            "Original: \n",
            "Predicted: \n",
            "\n",
            "\n",
            "Original: \n",
            "Predicted: \n",
            "\n",
            "\n",
            "Original: \n",
            "Predicted: \n",
            "\n",
            "\n",
            "Original: Nodu\n",
            "Predicted: Nodu: 5%\n",
            "\n",
            "\n",
            "Original: \n",
            "Predicted: \n",
            "\n",
            "\n",
            "Original: \n",
            "Predicted: \n",
            "\n",
            "\n",
            "Original: Edem\n",
            "Predicted: Edem: 3%\n",
            "\n",
            "\n",
            "Original: Card\n",
            "Predicted: Card: 3%\n",
            "\n",
            "\n",
            "Original: Infi\n",
            "Predicted: Infi:11%\n",
            "\n",
            "\n",
            "Original: \n",
            "Predicted: \n",
            "\n",
            "\n",
            "Original: \n",
            "Predicted: \n",
            "\n",
            "\n",
            "Original: Infi\n",
            "Predicted: Infi:11%\n",
            "\n",
            "\n",
            "Original: Mass\n",
            "Predicted: Mass: 2%\n",
            "\n",
            "\n",
            "Original: Infi\n",
            "Predicted: Infi: 8%\n",
            "\n",
            "\n",
            "Original: \n",
            "Predicted: \n",
            "\n",
            "\n",
            "Original: Infi\n",
            "Predicted: Infi:27%\n",
            "\n",
            "\n",
            "Original: Card\n",
            "Predicted: Card: 2%\n",
            "\n",
            "\n",
            "Original: \n",
            "Predicted: \n",
            "\n",
            "\n",
            "Original: Edem\n",
            "Predicted: Edem: 3%\n",
            "\n",
            "\n",
            "Original: \n",
            "Predicted: \n",
            "\n",
            "\n",
            "Original: Effu\n",
            "Predicted: Effu:18%\n",
            "\n",
            "\n",
            "Original: Card\n",
            "Predicted: Card: 3%\n",
            "\n",
            "\n",
            "Original: \n",
            "Predicted: \n",
            "\n",
            "\n",
            "Original: \n",
            "Predicted: \n",
            "\n",
            "\n",
            "Original: \n",
            "Predicted: \n",
            "\n",
            "\n",
            "Original: \n",
            "Predicted: \n",
            "\n",
            "\n",
            "Original: \n",
            "Predicted: \n",
            "\n",
            "\n",
            "Original: \n",
            "Predicted: \n",
            "\n",
            "\n",
            "Original: \n",
            "Predicted: \n",
            "\n",
            "\n",
            "Original: Effu\n",
            "Predicted: Effu: 9%\n",
            "\n",
            "\n",
            "Original: \n",
            "Predicted: \n",
            "\n",
            "\n",
            "Original: Effu\n",
            "Predicted: Effu: 7%\n",
            "\n",
            "\n",
            "Original: \n",
            "Predicted: \n",
            "\n",
            "\n",
            "Original: \n",
            "Predicted: \n",
            "\n",
            "\n",
            "Original: \n",
            "Predicted: \n",
            "\n",
            "\n",
            "Original: \n",
            "Predicted: \n",
            "\n",
            "\n",
            "Original: Mass\n",
            "Predicted: Mass: 5%\n",
            "\n",
            "\n",
            "Original: \n",
            "Predicted: \n",
            "\n",
            "\n",
            "Original: \n",
            "Predicted: \n",
            "\n",
            "\n",
            "Original: \n",
            "Predicted: \n",
            "\n",
            "\n",
            "Original: Infi\n",
            "Predicted: Infi:29%\n",
            "\n",
            "\n",
            "Original: \n",
            "Predicted: \n",
            "\n",
            "\n",
            "Original: Infi\n",
            "Predicted: Infi:24%\n",
            "\n",
            "\n",
            "Original: Infi\n",
            "Predicted: Infi:15%\n",
            "\n",
            "\n",
            "Original: Atel\n",
            "Predicted: Atel: 8%\n",
            "\n",
            "\n",
            "Original: \n",
            "Predicted: \n",
            "\n",
            "\n",
            "Original: \n",
            "Predicted: \n",
            "\n",
            "\n",
            "Original: \n",
            "Predicted: \n",
            "\n",
            "\n",
            "Original: \n",
            "Predicted: \n",
            "\n",
            "\n",
            "Original: \n",
            "Predicted: \n",
            "\n",
            "\n",
            "Original: \n",
            "Predicted: \n",
            "\n",
            "\n",
            "Original: \n",
            "Predicted: \n",
            "\n",
            "\n",
            "Original: \n",
            "Predicted: \n",
            "\n",
            "\n",
            "Original: \n",
            "Predicted: \n",
            "\n",
            "\n",
            "Original: \n",
            "Predicted: \n",
            "\n",
            "\n",
            "Original: \n",
            "Predicted: \n",
            "\n",
            "\n",
            "Original: \n",
            "Predicted: \n",
            "\n",
            "\n",
            "Original: Infi\n",
            "Predicted: Infi:16%\n",
            "\n",
            "\n",
            "Original: \n",
            "Predicted: \n",
            "\n",
            "\n",
            "Original: \n",
            "Predicted: \n",
            "\n",
            "\n",
            "Original: Effu\n",
            "Predicted: Effu:11%\n",
            "\n",
            "\n",
            "Original: \n",
            "Predicted: \n",
            "\n",
            "\n",
            "Original: Effu\n",
            "Predicted: Effu: 3%\n",
            "\n",
            "\n",
            "Original: \n",
            "Predicted: \n",
            "\n",
            "\n",
            "Original: \n",
            "Predicted: \n",
            "\n",
            "\n",
            "Original: \n",
            "Predicted: \n",
            "\n",
            "\n",
            "Original: Effu\n",
            "Predicted: Effu: 7%\n",
            "\n",
            "\n",
            "Original: \n",
            "Predicted: \n",
            "\n",
            "\n",
            "Original: \n",
            "Predicted: \n",
            "\n",
            "\n",
            "Original: \n",
            "Predicted: \n",
            "\n",
            "\n",
            "Original: \n",
            "Predicted: \n",
            "\n",
            "\n",
            "Original: Infi\n",
            "Predicted: Infi:16%\n",
            "\n",
            "\n",
            "Original: Cons\n",
            "Predicted: Cons: 6%\n",
            "\n",
            "\n",
            "Original: \n",
            "Predicted: \n",
            "\n",
            "\n",
            "Original: \n",
            "Predicted: \n",
            "\n",
            "\n",
            "Original: \n",
            "Predicted: \n",
            "\n",
            "\n",
            "Original: Infi\n",
            "Predicted: Infi:11%\n",
            "\n",
            "\n",
            "Original: \n",
            "Predicted: \n",
            "\n",
            "\n",
            "Original: \n",
            "Predicted: \n",
            "\n",
            "\n",
            "Original: \n",
            "Predicted: \n",
            "\n",
            "\n",
            "Original: \n",
            "Predicted: \n",
            "\n",
            "\n",
            "Original: Mass\n",
            "Predicted: Mass: 4%\n",
            "\n",
            "\n",
            "Original: \n",
            "Predicted: \n",
            "\n",
            "\n",
            "Original: Emph\n",
            "Predicted: Emph: 2%\n",
            "\n",
            "\n",
            "Original: \n",
            "Predicted: \n",
            "\n",
            "\n",
            "Original: \n",
            "Predicted: \n",
            "\n",
            "\n",
            "Original: \n",
            "Predicted: \n",
            "\n",
            "\n",
            "Original: \n",
            "Predicted: \n",
            "\n",
            "\n",
            "Original: \n",
            "Predicted: \n",
            "\n",
            "\n",
            "Original: \n",
            "Predicted: \n",
            "\n",
            "\n",
            "Original: Mass\n",
            "Predicted: Mass: 5%\n",
            "\n",
            "\n",
            "Original: \n",
            "Predicted: \n",
            "\n",
            "\n",
            "Original: \n",
            "Predicted: \n",
            "\n",
            "\n",
            "Original: \n",
            "Predicted: \n",
            "\n",
            "\n",
            "Original: \n",
            "Predicted: \n",
            "\n",
            "\n",
            "Original: Infi\n",
            "Predicted: Infi:12%\n",
            "\n",
            "\n",
            "Original: \n",
            "Predicted: \n",
            "\n",
            "\n",
            "Original: Infi\n",
            "Predicted: Infi:16%\n",
            "\n",
            "\n",
            "Original: \n",
            "Predicted: \n",
            "\n",
            "\n",
            "Original: \n",
            "Predicted: \n",
            "\n",
            "\n",
            "Original: Edem\n",
            "Predicted: Edem: 3%\n",
            "\n",
            "\n",
            "Original: Effu\n",
            "Predicted: Effu: 8%\n",
            "\n",
            "\n",
            "Original: \n",
            "Predicted: \n",
            "\n",
            "\n",
            "Original: Edem\n",
            "Predicted: Edem: 1%\n",
            "\n",
            "\n",
            "Original: \n",
            "Predicted: \n",
            "\n",
            "\n",
            "Original: \n",
            "Predicted: \n",
            "\n",
            "\n",
            "Original: Effu\n",
            "Predicted: Effu: 6%\n",
            "\n",
            "\n",
            "Original: \n",
            "Predicted: \n",
            "\n",
            "\n",
            "Original: \n",
            "Predicted: \n",
            "\n",
            "\n",
            "Original: \n",
            "Predicted: \n",
            "\n",
            "\n",
            "Original: \n",
            "Predicted: \n",
            "\n",
            "\n",
            "Original: \n",
            "Predicted: \n",
            "\n",
            "\n",
            "Original: \n",
            "Predicted: \n",
            "\n",
            "\n",
            "Original: \n",
            "Predicted: \n",
            "\n",
            "\n",
            "Original: \n",
            "Predicted: \n",
            "\n",
            "\n",
            "Original: \n",
            "Predicted: \n",
            "\n",
            "\n",
            "Original: Atel\n",
            "Predicted: Atel:10%\n",
            "\n",
            "\n",
            "Original: \n",
            "Predicted: \n",
            "\n",
            "\n",
            "Original: \n",
            "Predicted: \n",
            "\n",
            "\n",
            "Original: Cons\n",
            "Predicted: Cons: 8%\n",
            "\n",
            "\n",
            "Original: \n",
            "Predicted: \n",
            "\n",
            "\n",
            "Original: \n",
            "Predicted: \n",
            "\n",
            "\n",
            "Original: \n",
            "Predicted: \n",
            "\n",
            "\n",
            "Original: \n",
            "Predicted: \n",
            "\n",
            "\n",
            "Original: Infi\n",
            "Predicted: Infi:14%\n",
            "\n",
            "\n",
            "Original: \n",
            "Predicted: \n",
            "\n",
            "\n",
            "Original: \n",
            "Predicted: \n",
            "\n",
            "\n",
            "Original: \n",
            "Predicted: \n",
            "\n",
            "\n",
            "Original: \n",
            "Predicted: \n",
            "\n",
            "\n",
            "Original: Atel\n",
            "Predicted: Atel:16%\n",
            "\n",
            "\n",
            "Original: \n",
            "Predicted: \n",
            "\n",
            "\n",
            "Original: \n",
            "Predicted: \n",
            "\n",
            "\n",
            "Original: Infi\n",
            "Predicted: Infi:18%\n",
            "\n",
            "\n",
            "Original: \n",
            "Predicted: \n",
            "\n",
            "\n",
            "Original: Pneu\n",
            "Predicted: Pneu: 4%\n",
            "\n",
            "\n",
            "Original: Atel\n",
            "Predicted: Atel:14%\n",
            "\n",
            "\n",
            "Original: \n",
            "Predicted: \n",
            "\n",
            "\n",
            "Original: Infi\n",
            "Predicted: Infi:16%\n",
            "\n",
            "\n",
            "Original: \n",
            "Predicted: \n",
            "\n",
            "\n",
            "Original: \n",
            "Predicted: \n",
            "\n",
            "\n",
            "Original: \n",
            "Predicted: \n",
            "\n",
            "\n",
            "Original: \n",
            "Predicted: \n",
            "\n",
            "\n",
            "Original: \n",
            "Predicted: \n",
            "\n",
            "\n",
            "Original: \n",
            "Predicted: \n",
            "\n",
            "\n",
            "Original: \n",
            "Predicted: \n",
            "\n",
            "\n",
            "Original: \n",
            "Predicted: \n",
            "\n",
            "\n",
            "Original: \n",
            "Predicted: \n",
            "\n",
            "\n",
            "Original: Infi\n",
            "Predicted: Infi:17%\n",
            "\n",
            "\n",
            "Original: \n",
            "Predicted: \n",
            "\n",
            "\n",
            "Original: \n",
            "Predicted: \n",
            "\n",
            "\n",
            "Original: Pneu\n",
            "Predicted: Pneu: 4%\n",
            "\n",
            "\n",
            "Original: \n",
            "Predicted: \n",
            "\n",
            "\n",
            "Original: Infi\n",
            "Predicted: Infi:21%\n",
            "\n",
            "\n",
            "Original: Atel\n",
            "Predicted: Atel:10%\n",
            "\n",
            "\n",
            "Original: \n",
            "Predicted: \n",
            "\n",
            "\n",
            "Original: Infi\n",
            "Predicted: Infi:17%\n",
            "\n",
            "\n",
            "Original: \n",
            "Predicted: \n",
            "\n",
            "\n",
            "Original: Infi\n",
            "Predicted: Infi:10%\n",
            "\n",
            "\n",
            "Original: \n",
            "Predicted: \n",
            "\n",
            "\n",
            "Original: Infi\n",
            "Predicted: Infi:19%\n",
            "\n",
            "\n",
            "Original: \n",
            "Predicted: \n",
            "\n",
            "\n",
            "Original: Effu\n",
            "Predicted: Effu:11%\n",
            "\n",
            "\n",
            "Original: Cons\n",
            "Predicted: Cons: 3%\n",
            "\n",
            "\n",
            "Original: \n",
            "Predicted: \n",
            "\n",
            "\n",
            "Original: \n",
            "Predicted: \n",
            "\n",
            "\n",
            "Original: \n",
            "Predicted: \n",
            "\n",
            "\n",
            "Original: \n",
            "Predicted: \n",
            "\n",
            "\n",
            "Original: \n",
            "Predicted: \n",
            "\n",
            "\n",
            "Original: \n",
            "Predicted: \n",
            "\n",
            "\n",
            "Original: \n",
            "Predicted: \n",
            "\n",
            "\n",
            "Original: \n",
            "Predicted: \n",
            "\n",
            "\n",
            "Original: Infi\n",
            "Predicted: Infi:18%\n",
            "\n",
            "\n",
            "Original: Effu\n",
            "Predicted: Effu:12%\n",
            "\n",
            "\n",
            "Original: \n",
            "Predicted: \n",
            "\n",
            "\n",
            "Original: Infi\n",
            "Predicted: Infi:16%\n",
            "\n",
            "\n",
            "Original: \n",
            "Predicted: \n",
            "\n",
            "\n",
            "Original: Infi\n",
            "Predicted: Infi:22%\n",
            "\n",
            "\n",
            "Original: \n",
            "Predicted: \n",
            "\n",
            "\n",
            "Original: \n",
            "Predicted: \n",
            "\n",
            "\n",
            "Original: Effu\n",
            "Predicted: Effu: 9%\n",
            "\n",
            "\n",
            "Original: Effu\n",
            "Predicted: Effu:21%\n",
            "\n",
            "\n",
            "Original: \n",
            "Predicted: \n",
            "\n",
            "\n",
            "Original: \n",
            "Predicted: \n",
            "\n",
            "\n",
            "Original: Infi\n",
            "Predicted: Infi:16%\n",
            "\n",
            "\n",
            "Original: \n",
            "Predicted: \n",
            "\n",
            "\n",
            "Original: Infi\n",
            "Predicted: Infi: 9%\n",
            "\n",
            "\n",
            "Original: \n",
            "Predicted: \n",
            "\n",
            "\n",
            "Original: \n",
            "Predicted: \n",
            "\n",
            "\n",
            "Original: Infi\n",
            "Predicted: Infi: 9%\n",
            "\n",
            "\n",
            "Original: Nodu\n",
            "Predicted: Nodu: 4%\n",
            "\n",
            "\n",
            "Original: \n",
            "Predicted: \n",
            "\n",
            "\n",
            "Original: Atel\n",
            "Predicted: Atel:14%\n",
            "\n",
            "\n",
            "Original: Mass\n",
            "Predicted: Mass: 7%\n",
            "\n",
            "\n",
            "Original: \n",
            "Predicted: \n",
            "\n",
            "\n",
            "Original: \n",
            "Predicted: \n",
            "\n",
            "\n",
            "Original: Effu\n",
            "Predicted: Effu:10%\n",
            "\n",
            "\n",
            "Original: \n",
            "Predicted: \n",
            "\n",
            "\n",
            "Original: Atel\n",
            "Predicted: Atel:18%\n",
            "\n",
            "\n",
            "Original: Emph\n",
            "Predicted: Emph: 2%\n",
            "\n",
            "\n",
            "Original: \n",
            "Predicted: \n",
            "\n",
            "\n",
            "Original: \n",
            "Predicted: \n",
            "\n",
            "\n",
            "Original: Infi\n",
            "Predicted: Infi:27%\n",
            "\n",
            "\n",
            "Original: \n",
            "Predicted: \n",
            "\n",
            "\n",
            "Original: \n",
            "Predicted: \n",
            "\n",
            "\n",
            "Original: Pneu\n",
            "Predicted: Pneu: 3%\n",
            "\n",
            "\n",
            "Original: Infi\n",
            "Predicted: Infi:30%\n",
            "\n",
            "\n",
            "Original: Atel\n",
            "Predicted: Atel:17%\n",
            "\n",
            "\n",
            "Original: Infi\n",
            "Predicted: Infi:12%\n",
            "\n",
            "\n",
            "Original: \n",
            "Predicted: \n",
            "\n",
            "\n",
            "Original: Atel, Pleu\n",
            "Predicted: Atel:17%, Pleu: 7%\n",
            "\n",
            "\n",
            "Original: Edem, Infi\n",
            "Predicted: Edem: 3%, Infi:23%\n",
            "\n",
            "\n",
            "Original: Effu, Infi\n",
            "Predicted: Effu:11%, Infi:22%\n",
            "\n",
            "\n",
            "Original: Atel, Card, Effu, Infi, Pleu\n",
            "Predicted: Atel:13%, Card: 2%, Effu: 9%, Infi:19%, Pleu: 4%\n",
            "\n",
            "\n",
            "Original: Effu, Infi\n",
            "Predicted: Effu:10%, Infi:25%\n",
            "\n",
            "\n",
            "Original: Mass, Nodu, Pneu\n",
            "Predicted: Mass: 4%, Nodu: 5%, Pneu: 4%\n",
            "\n",
            "\n",
            "Original: Atel, Infi\n",
            "Predicted: Atel:17%, Infi:14%\n",
            "\n",
            "\n",
            "Original: Atel, Cons, Infi\n",
            "Predicted: Atel:13%, Cons: 9%, Infi:26%\n",
            "\n",
            "\n",
            "Original: Mass, Pneu\n",
            "Predicted: Mass: 5%, Pneu: 4%\n",
            "\n",
            "\n",
            "Original: Effu, Infi\n",
            "Predicted: Effu:11%, Infi:24%\n",
            "\n",
            "\n",
            "Original: Atel, Effu\n",
            "Predicted: Atel:14%, Effu: 9%\n",
            "\n",
            "\n",
            "Original: Atel, Infi, Pleu\n",
            "Predicted: Atel: 9%, Infi:30%, Pleu: 6%\n",
            "\n",
            "\n",
            "Original: Cons, Effu, Infi, Mass\n",
            "Predicted: Cons:11%, Effu:17%, Infi:29%, Mass: 8%\n",
            "\n",
            "\n",
            "Original: Effu, Infi, Mass\n",
            "Predicted: Effu: 4%, Infi:12%, Mass: 4%\n",
            "\n",
            "\n",
            "Original: Emph, Pneu\n",
            "Predicted: Emph: 1%, Pneu: 3%\n",
            "\n",
            "\n",
            "Original: Atel, Cons, Effu, Infi\n",
            "Predicted: Atel:13%, Cons: 6%, Effu:13%, Infi:21%\n",
            "\n",
            "\n",
            "Original: Effu, Mass\n",
            "Predicted: Effu: 9%, Mass: 5%\n",
            "\n",
            "\n",
            "Original: Atel, Edem\n",
            "Predicted: Atel: 9%, Edem: 1%\n",
            "\n",
            "\n",
            "Original: Effu, Infi, Pneu\n",
            "Predicted: Effu:17%, Infi:27%, Pneu: 5%\n",
            "\n",
            "\n",
            "Original: Atel, Effu\n",
            "Predicted: Atel: 9%, Effu: 7%\n",
            "\n",
            "\n",
            "Original: Atel, Edem, Effu, Infi\n",
            "Predicted: Atel:18%, Edem: 4%, Effu:12%, Infi:25%\n",
            "\n",
            "\n",
            "Original: Edem, Effu, Infi\n",
            "Predicted: Edem: 4%, Effu:19%, Infi:25%\n",
            "\n",
            "\n",
            "Original: Atel, Effu, Infi, Mass\n",
            "Predicted: Atel:19%, Effu:25%, Infi:33%, Mass:10%\n",
            "\n",
            "\n",
            "Original: Infi, Mass\n",
            "Predicted: Infi:14%, Mass: 4%\n",
            "\n",
            "\n",
            "Original: Atel, Effu\n",
            "Predicted: Atel: 8%, Effu: 4%\n",
            "\n",
            "\n",
            "Original: Infi, Pleu\n",
            "Predicted: Infi:15%, Pleu: 3%\n",
            "\n",
            "\n",
            "Original: Card, Effu\n",
            "Predicted: Card: 2%, Effu: 8%\n",
            "\n",
            "\n",
            "Original: Card, Cons, Effu\n",
            "Predicted: Card: 2%, Cons: 4%, Effu: 8%\n",
            "\n",
            "\n",
            "Original: Infi, Pneu\n",
            "Predicted: Infi:21%, Pneu: 6%\n",
            "\n",
            "\n",
            "Original: Infi, Mass\n",
            "Predicted: Infi:15%, Mass: 4%\n",
            "\n",
            "\n",
            "Original: Atel, Effu\n",
            "Predicted: Atel:11%, Effu: 7%\n",
            "\n",
            "\n",
            "Original: Atel, Effu\n",
            "Predicted: Atel: 7%, Effu: 4%\n",
            "\n",
            "\n",
            "Original: Atel, Infi\n",
            "Predicted: Atel:13%, Infi:19%\n",
            "\n",
            "\n",
            "Original: Effu, Nodu\n",
            "Predicted: Effu: 3%, Nodu: 5%\n",
            "\n",
            "\n",
            "Original: Infi, Pneu\n",
            "Predicted: Infi:23%, Pneu: 4%\n",
            "\n",
            "\n",
            "Original: Edem, Effu, Nodu\n",
            "Predicted: Edem: 3%, Effu:10%, Nodu: 7%\n",
            "\n",
            "\n",
            "Original: Atel, Effu\n",
            "Predicted: Atel:19%, Effu:11%\n",
            "\n",
            "\n",
            "Original: Edem, Infi\n",
            "Predicted: Edem: 3%, Infi:21%\n",
            "\n",
            "\n",
            "Original: Nodu, Pleu\n",
            "Predicted: Nodu: 6%, Pleu: 3%\n",
            "\n",
            "\n",
            "Original: Atel, Effu, Infi\n",
            "Predicted: Atel:22%, Effu:13%, Infi:22%\n",
            "\n",
            "\n",
            "Original: Atel, Infi\n",
            "Predicted: Atel:12%, Infi:21%\n",
            "\n",
            "\n"
          ],
          "name": "stdout"
        }
      ]
    },
    {
      "metadata": {
        "id": "xe9x7XDOn_aN",
        "colab_type": "code",
        "outputId": "3da72ce6-401b-43b3-b629-22e5a9c4f3b8",
        "colab": {
          "base_uri": "https://localhost:8080/",
          "height": 376
        }
      },
      "cell_type": "code",
      "source": [
        "from matplotlib import pyplot\n",
        "pyplot.plot(history.history['loss'])\n",
        "pyplot.plot(history.history['val_loss'])\n",
        "pyplot.title('model train vs validation loss')\n",
        "pyplot.ylabel('loss')\n",
        "pyplot.xlabel('epoch')\n",
        "pyplot.legend(['train', 'validation'], loc='upper right')\n",
        "pyplot.show()\n"
      ],
      "execution_count": 40,
      "outputs": [
        {
          "output_type": "display_data",
          "data": {
            "image/png": "[encoded data removed]",
            "text/plain": [
              "<matplotlib.figure.Figure at 0x7fdd423337b8>"
            ]
          },
          "metadata": {
            "tags": []
          }
        }
      ]
    },
    {
      "metadata": {
        "id": "R7NSCGdKoAdf",
        "colab_type": "code",
        "colab": {}
      },
      "cell_type": "code",
      "source": [
        ""
      ],
      "execution_count": 0,
      "outputs": []
    }
  ]
}