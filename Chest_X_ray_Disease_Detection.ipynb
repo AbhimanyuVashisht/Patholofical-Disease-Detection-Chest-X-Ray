{
  "nbformat": 4,
  "nbformat_minor": 0,
  "metadata": {
    "colab": {
      "name": "Chest X-ray Disease Detection.ipynb",
      "version": "0.3.2",
      "provenance": [],
      "collapsed_sections": [],
      "toc_visible": true
    },
    "kernelspec": {
      "name": "python3",
      "display_name": "Python 3"
    },
    "accelerator": "GPU"
  },
  "cells": [
    {
      "metadata": {
        "id": "7LesRTEBv4vr",
        "colab_type": "code",
        "colab": {}
      },
      "cell_type": "code",
      "source": [
        "!pip install -U -q kaggle\n",
        "!mkdir -p ~/.kaggle"
      ],
      "execution_count": 0,
      "outputs": []
    },
    {
      "metadata": {
        "id": "bPGAd2eow_40",
        "colab_type": "code",
        "outputId": "a7ce8d2d-da2b-4ae4-ee11-fd5238e7ccd5",
        "colab": {
          "base_uri": "https://localhost:8080/",
          "height": 124
        }
      },
      "cell_type": "code",
      "source": [
        "from google.colab import drive\n",
        "drive.mount('/content/drive')"
      ],
      "execution_count": 2,
      "outputs": [
        {
          "output_type": "stream",
          "text": [
            "Go to this URL in a browser: https://accounts.google.com/o/oauth2/auth?client_id=947318989803-6bn6qk8qdgf4n4g3pfee6491hc0brc4i.apps.googleusercontent.com&redirect_uri=urn%3Aietf%3Awg%3Aoauth%3A2.0%3Aoob&scope=email%20https%3A%2F%2Fwww.googleapis.com%2Fauth%2Fdocs.test%20https%3A%2F%2Fwww.googleapis.com%2Fauth%2Fdrive%20https%3A%2F%2Fwww.googleapis.com%2Fauth%2Fdrive.photos.readonly%20https%3A%2F%2Fwww.googleapis.com%2Fauth%2Fpeopleapi.readonly&response_type=code\n",
            "\n",
            "Enter your authorization code:\n",
            "··········\n",
            "Mounted at /content/drive\n"
          ],
          "name": "stdout"
        }
      ]
    },
    {
      "metadata": {
        "id": "3n0xG7i1xb7u",
        "colab_type": "code",
        "outputId": "38313bbe-dba3-4964-a061-e2607443b61f",
        "colab": {
          "resources": {
            "http://localhost:8080/nbextensions/google.colab/files.js": {
              "data": "Ly8gQ29weXJpZ2h0IDIwMTcgR29vZ2xlIExMQwovLwovLyBMaWNlbnNlZCB1bmRlciB0aGUgQXBhY2hlIExpY2Vuc2UsIFZlcnNpb24gMi4wICh0aGUgIkxpY2Vuc2UiKTsKLy8geW91IG1heSBub3QgdXNlIHRoaXMgZmlsZSBleGNlcHQgaW4gY29tcGxpYW5jZSB3aXRoIHRoZSBMaWNlbnNlLgovLyBZb3UgbWF5IG9idGFpbiBhIGNvcHkgb2YgdGhlIExpY2Vuc2UgYXQKLy8KLy8gICAgICBodHRwOi8vd3d3LmFwYWNoZS5vcmcvbGljZW5zZXMvTElDRU5TRS0yLjAKLy8KLy8gVW5sZXNzIHJlcXVpcmVkIGJ5IGFwcGxpY2FibGUgbGF3IG9yIGFncmVlZCB0byBpbiB3cml0aW5nLCBzb2Z0d2FyZQovLyBkaXN0cmlidXRlZCB1bmRlciB0aGUgTGljZW5zZSBpcyBkaXN0cmlidXRlZCBvbiBhbiAiQVMgSVMiIEJBU0lTLAovLyBXSVRIT1VUIFdBUlJBTlRJRVMgT1IgQ09ORElUSU9OUyBPRiBBTlkgS0lORCwgZWl0aGVyIGV4cHJlc3Mgb3IgaW1wbGllZC4KLy8gU2VlIHRoZSBMaWNlbnNlIGZvciB0aGUgc3BlY2lmaWMgbGFuZ3VhZ2UgZ292ZXJuaW5nIHBlcm1pc3Npb25zIGFuZAovLyBsaW1pdGF0aW9ucyB1bmRlciB0aGUgTGljZW5zZS4KCi8qKgogKiBAZmlsZW92ZXJ2aWV3IEhlbHBlcnMgZm9yIGdvb2dsZS5jb2xhYiBQeXRob24gbW9kdWxlLgogKi8KKGZ1bmN0aW9uKHNjb3BlKSB7CmZ1bmN0aW9uIHNwYW4odGV4dCwgc3R5bGVBdHRyaWJ1dGVzID0ge30pIHsKICBjb25zdCBlbGVtZW50ID0gZG9jdW1lbnQuY3JlYXRlRWxlbWVudCgnc3BhbicpOwogIGVsZW1lbnQudGV4dENvbnRlbnQgPSB0ZXh0OwogIGZvciAoY29uc3Qga2V5IG9mIE9iamVjdC5rZXlzKHN0eWxlQXR0cmlidXRlcykpIHsKICAgIGVsZW1lbnQuc3R5bGVba2V5XSA9IHN0eWxlQXR0cmlidXRlc1trZXldOwogIH0KICByZXR1cm4gZWxlbWVudDsKfQoKLy8gTWF4IG51bWJlciBvZiBieXRlcyB3aGljaCB3aWxsIGJlIHVwbG9hZGVkIGF0IGEgdGltZS4KY29uc3QgTUFYX1BBWUxPQURfU0laRSA9IDEwMCAqIDEwMjQ7Ci8vIE1heCBhbW91bnQgb2YgdGltZSB0byBibG9jayB3YWl0aW5nIGZvciB0aGUgdXNlci4KY29uc3QgRklMRV9DSEFOR0VfVElNRU9VVF9NUyA9IDMwICogMTAwMDsKCmZ1bmN0aW9uIF91cGxvYWRGaWxlcyhpbnB1dElkLCBvdXRwdXRJZCkgewogIGNvbnN0IHN0ZXBzID0gdXBsb2FkRmlsZXNTdGVwKGlucHV0SWQsIG91dHB1dElkKTsKICBjb25zdCBvdXRwdXRFbGVtZW50ID0gZG9jdW1lbnQuZ2V0RWxlbWVudEJ5SWQob3V0cHV0SWQpOwogIC8vIENhY2hlIHN0ZXBzIG9uIHRoZSBvdXRwdXRFbGVtZW50IHRvIG1ha2UgaXQgYXZhaWxhYmxlIGZvciB0aGUgbmV4dCBjYWxsCiAgLy8gdG8gdXBsb2FkRmlsZXNDb250aW51ZSBmcm9tIFB5dGhvbi4KICBvdXRwdXRFbGVtZW50LnN0ZXBzID0gc3RlcHM7CgogIHJldHVybiBfdXBsb2FkRmlsZXNDb250aW51ZShvdXRwdXRJZCk7Cn0KCi8vIFRoaXMgaXMgcm91Z2hseSBhbiBhc3luYyBnZW5lcmF0b3IgKG5vdCBzdXBwb3J0ZWQgaW4gdGhlIGJyb3dzZXIgeWV0KSwKLy8gd2hlcmUgdGhlcmUgYXJlIG11bHRpcGxlIGFzeW5jaHJvbm91cyBzdGVwcyBhbmQgdGhlIFB5dGhvbiBzaWRlIGlzIGdvaW5nCi8vIHRvIHBvbGwgZm9yIGNvbXBsZXRpb24gb2YgZWFjaCBzdGVwLgovLyBUaGlzIHVzZXMgYSBQcm9taXNlIHRvIGJsb2NrIHRoZSBweXRob24gc2lkZSBvbiBjb21wbGV0aW9uIG9mIGVhY2ggc3RlcCwKLy8gdGhlbiBwYXNzZXMgdGhlIHJlc3VsdCBvZiB0aGUgcHJldmlvdXMgc3RlcCBhcyB0aGUgaW5wdXQgdG8gdGhlIG5leHQgc3RlcC4KZnVuY3Rpb24gX3VwbG9hZEZpbGVzQ29udGludWUob3V0cHV0SWQpIHsKICBjb25zdCBvdXRwdXRFbGVtZW50ID0gZG9jdW1lbnQuZ2V0RWxlbWVudEJ5SWQob3V0cHV0SWQpOwogIGNvbnN0IHN0ZXBzID0gb3V0cHV0RWxlbWVudC5zdGVwczsKCiAgY29uc3QgbmV4dCA9IHN0ZXBzLm5leHQob3V0cHV0RWxlbWVudC5sYXN0UHJvbWlzZVZhbHVlKTsKICByZXR1cm4gUHJvbWlzZS5yZXNvbHZlKG5leHQudmFsdWUucHJvbWlzZSkudGhlbigodmFsdWUpID0+IHsKICAgIC8vIENhY2hlIHRoZSBsYXN0IHByb21pc2UgdmFsdWUgdG8gbWFrZSBpdCBhdmFpbGFibGUgdG8gdGhlIG5leHQKICAgIC8vIHN0ZXAgb2YgdGhlIGdlbmVyYXRvci4KICAgIG91dHB1dEVsZW1lbnQubGFzdFByb21pc2VWYWx1ZSA9IHZhbHVlOwogICAgcmV0dXJuIG5leHQudmFsdWUucmVzcG9uc2U7CiAgfSk7Cn0KCi8qKgogKiBHZW5lcmF0b3IgZnVuY3Rpb24gd2hpY2ggaXMgY2FsbGVkIGJldHdlZW4gZWFjaCBhc3luYyBzdGVwIG9mIHRoZSB1cGxvYWQKICogcHJvY2Vzcy4KICogQHBhcmFtIHtzdHJpbmd9IGlucHV0SWQgRWxlbWVudCBJRCBvZiB0aGUgaW5wdXQgZmlsZSBwaWNrZXIgZWxlbWVudC4KICogQHBhcmFtIHtzdHJpbmd9IG91dHB1dElkIEVsZW1lbnQgSUQgb2YgdGhlIG91dHB1dCBkaXNwbGF5LgogKiBAcmV0dXJuIHshSXRlcmFibGU8IU9iamVjdD59IEl0ZXJhYmxlIG9mIG5leHQgc3RlcHMuCiAqLwpmdW5jdGlvbiogdXBsb2FkRmlsZXNTdGVwKGlucHV0SWQsIG91dHB1dElkKSB7CiAgY29uc3QgaW5wdXRFbGVtZW50ID0gZG9jdW1lbnQuZ2V0RWxlbWVudEJ5SWQoaW5wdXRJZCk7CiAgaW5wdXRFbGVtZW50LmRpc2FibGVkID0gZmFsc2U7CgogIGNvbnN0IG91dHB1dEVsZW1lbnQgPSBkb2N1bWVudC5nZXRFbGVtZW50QnlJZChvdXRwdXRJZCk7CiAgb3V0cHV0RWxlbWVudC5pbm5lckhUTUwgPSAnJzsKCiAgY29uc3QgcGlja2VkUHJvbWlzZSA9IG5ldyBQcm9taXNlKChyZXNvbHZlKSA9PiB7CiAgICBpbnB1dEVsZW1lbnQuYWRkRXZlbnRMaXN0ZW5lcignY2hhbmdlJywgKGUpID0+IHsKICAgICAgcmVzb2x2ZShlLnRhcmdldC5maWxlcyk7CiAgICB9KTsKICB9KTsKCiAgY29uc3QgY2FuY2VsID0gZG9jdW1lbnQuY3JlYXRlRWxlbWVudCgnYnV0dG9uJyk7CiAgaW5wdXRFbGVtZW50LnBhcmVudEVsZW1lbnQuYXBwZW5kQ2hpbGQoY2FuY2VsKTsKICBjYW5jZWwudGV4dENvbnRlbnQgPSAnQ2FuY2VsIHVwbG9hZCc7CiAgY29uc3QgY2FuY2VsUHJvbWlzZSA9IG5ldyBQcm9taXNlKChyZXNvbHZlKSA9PiB7CiAgICBjYW5jZWwub25jbGljayA9ICgpID0+IHsKICAgICAgcmVzb2x2ZShudWxsKTsKICAgIH07CiAgfSk7CgogIC8vIENhbmNlbCB1cGxvYWQgaWYgdXNlciBoYXNuJ3QgcGlja2VkIGFueXRoaW5nIGluIHRpbWVvdXQuCiAgY29uc3QgdGltZW91dFByb21pc2UgPSBuZXcgUHJvbWlzZSgocmVzb2x2ZSkgPT4gewogICAgc2V0VGltZW91dCgoKSA9PiB7CiAgICAgIHJlc29sdmUobnVsbCk7CiAgICB9LCBGSUxFX0NIQU5HRV9USU1FT1VUX01TKTsKICB9KTsKCiAgLy8gV2FpdCBmb3IgdGhlIHVzZXIgdG8gcGljayB0aGUgZmlsZXMuCiAgY29uc3QgZmlsZXMgPSB5aWVsZCB7CiAgICBwcm9taXNlOiBQcm9taXNlLnJhY2UoW3BpY2tlZFByb21pc2UsIHRpbWVvdXRQcm9taXNlLCBjYW5jZWxQcm9taXNlXSksCiAgICByZXNwb25zZTogewogICAgICBhY3Rpb246ICdzdGFydGluZycsCiAgICB9CiAgfTsKCiAgaWYgKCFmaWxlcykgewogICAgcmV0dXJuIHsKICAgICAgcmVzcG9uc2U6IHsKICAgICAgICBhY3Rpb246ICdjb21wbGV0ZScsCiAgICAgIH0KICAgIH07CiAgfQoKICBjYW5jZWwucmVtb3ZlKCk7CgogIC8vIERpc2FibGUgdGhlIGlucHV0IGVsZW1lbnQgc2luY2UgZnVydGhlciBwaWNrcyBhcmUgbm90IGFsbG93ZWQuCiAgaW5wdXRFbGVtZW50LmRpc2FibGVkID0gdHJ1ZTsKCiAgZm9yIChjb25zdCBmaWxlIG9mIGZpbGVzKSB7CiAgICBjb25zdCBsaSA9IGRvY3VtZW50LmNyZWF0ZUVsZW1lbnQoJ2xpJyk7CiAgICBsaS5hcHBlbmQoc3BhbihmaWxlLm5hbWUsIHtmb250V2VpZ2h0OiAnYm9sZCd9KSk7CiAgICBsaS5hcHBlbmQoc3BhbigKICAgICAgICBgKCR7ZmlsZS50eXBlIHx8ICduL2EnfSkgLSAke2ZpbGUuc2l6ZX0gYnl0ZXMsIGAgKwogICAgICAgIGBsYXN0IG1vZGlmaWVkOiAkewogICAgICAgICAgICBmaWxlLmxhc3RNb2RpZmllZERhdGUgPyBmaWxlLmxhc3RNb2RpZmllZERhdGUudG9Mb2NhbGVEYXRlU3RyaW5nKCkgOgogICAgICAgICAgICAgICAgICAgICAgICAgICAgICAgICAgICAnbi9hJ30gLSBgKSk7CiAgICBjb25zdCBwZXJjZW50ID0gc3BhbignMCUgZG9uZScpOwogICAgbGkuYXBwZW5kQ2hpbGQocGVyY2VudCk7CgogICAgb3V0cHV0RWxlbWVudC5hcHBlbmRDaGlsZChsaSk7CgogICAgY29uc3QgZmlsZURhdGFQcm9taXNlID0gbmV3IFByb21pc2UoKHJlc29sdmUpID0+IHsKICAgICAgY29uc3QgcmVhZGVyID0gbmV3IEZpbGVSZWFkZXIoKTsKICAgICAgcmVhZGVyLm9ubG9hZCA9IChlKSA9PiB7CiAgICAgICAgcmVzb2x2ZShlLnRhcmdldC5yZXN1bHQpOwogICAgICB9OwogICAgICByZWFkZXIucmVhZEFzQXJyYXlCdWZmZXIoZmlsZSk7CiAgICB9KTsKICAgIC8vIFdhaXQgZm9yIHRoZSBkYXRhIHRvIGJlIHJlYWR5LgogICAgbGV0IGZpbGVEYXRhID0geWllbGQgewogICAgICBwcm9taXNlOiBmaWxlRGF0YVByb21pc2UsCiAgICAgIHJlc3BvbnNlOiB7CiAgICAgICAgYWN0aW9uOiAnY29udGludWUnLAogICAgICB9CiAgICB9OwoKICAgIC8vIFVzZSBhIGNodW5rZWQgc2VuZGluZyB0byBhdm9pZCBtZXNzYWdlIHNpemUgbGltaXRzLiBTZWUgYi82MjExNTY2MC4KICAgIGxldCBwb3NpdGlvbiA9IDA7CiAgICB3aGlsZSAocG9zaXRpb24gPCBmaWxlRGF0YS5ieXRlTGVuZ3RoKSB7CiAgICAgIGNvbnN0IGxlbmd0aCA9IE1hdGgubWluKGZpbGVEYXRhLmJ5dGVMZW5ndGggLSBwb3NpdGlvbiwgTUFYX1BBWUxPQURfU0laRSk7CiAgICAgIGNvbnN0IGNodW5rID0gbmV3IFVpbnQ4QXJyYXkoZmlsZURhdGEsIHBvc2l0aW9uLCBsZW5ndGgpOwogICAgICBwb3NpdGlvbiArPSBsZW5ndGg7CgogICAgICBjb25zdCBiYXNlNjQgPSBidG9hKFN0cmluZy5mcm9tQ2hhckNvZGUuYXBwbHkobnVsbCwgY2h1bmspKTsKICAgICAgeWllbGQgewogICAgICAgIHJlc3BvbnNlOiB7CiAgICAgICAgICBhY3Rpb246ICdhcHBlbmQnLAogICAgICAgICAgZmlsZTogZmlsZS5uYW1lLAogICAgICAgICAgZGF0YTogYmFzZTY0LAogICAgICAgIH0sCiAgICAgIH07CiAgICAgIHBlcmNlbnQudGV4dENvbnRlbnQgPQogICAgICAgICAgYCR7TWF0aC5yb3VuZCgocG9zaXRpb24gLyBmaWxlRGF0YS5ieXRlTGVuZ3RoKSAqIDEwMCl9JSBkb25lYDsKICAgIH0KICB9CgogIC8vIEFsbCBkb25lLgogIHlpZWxkIHsKICAgIHJlc3BvbnNlOiB7CiAgICAgIGFjdGlvbjogJ2NvbXBsZXRlJywKICAgIH0KICB9Owp9CgpzY29wZS5nb29nbGUgPSBzY29wZS5nb29nbGUgfHwge307CnNjb3BlLmdvb2dsZS5jb2xhYiA9IHNjb3BlLmdvb2dsZS5jb2xhYiB8fCB7fTsKc2NvcGUuZ29vZ2xlLmNvbGFiLl9maWxlcyA9IHsKICBfdXBsb2FkRmlsZXMsCiAgX3VwbG9hZEZpbGVzQ29udGludWUsCn07Cn0pKHNlbGYpOwo=",
              "ok": true,
              "headers": [
                [
                  "content-type",
                  "application/javascript"
                ]
              ],
              "status": 200,
              "status_text": "OK"
            }
          },
          "base_uri": "https://localhost:8080/",
          "height": 95
        }
      },
      "cell_type": "code",
      "source": [
        "from google.colab import files\n",
        "files.upload()"
      ],
      "execution_count": 0,
      "outputs": [
        {
          "output_type": "display_data",
          "data": {
            "text/html": [
              "\n",
              "     <input type=\"file\" id=\"files-eb5f602c-a376-49b5-9b73-6425d6b00d15\" name=\"files[]\" multiple disabled />\n",
              "     <output id=\"result-eb5f602c-a376-49b5-9b73-6425d6b00d15\">\n",
              "      Upload widget is only available when the cell has been executed in the\n",
              "      current browser session. Please rerun this cell to enable.\n",
              "      </output>\n",
              "      <script src=\"/nbextensions/google.colab/files.js\"></script> "
            ],
            "text/plain": [
              "<IPython.core.display.HTML object>"
            ]
          },
          "metadata": {
            "tags": []
          }
        },
        {
          "output_type": "stream",
          "text": [
            "Saving kaggle.json to kaggle (1).json\n"
          ],
          "name": "stdout"
        },
        {
          "output_type": "execute_result",
          "data": {
            "text/plain": [
              "{'kaggle.json': b'{\"username\":\"willnotfit\",\"key\":\"787d5da5aeb202a9794b2b151e284be2\"}'}"
            ]
          },
          "metadata": {
            "tags": []
          },
          "execution_count": 7
        }
      ]
    },
    {
      "metadata": {
        "id": "ucS5o1tjyEjz",
        "colab_type": "code",
        "colab": {}
      },
      "cell_type": "code",
      "source": [
        "!cp kaggle.json ~/.kaggle/\n",
        "!chmod 600 /root/.kaggle/kaggle.json\n"
      ],
      "execution_count": 0,
      "outputs": []
    },
    {
      "metadata": {
        "id": "bFssbxi9yLZM",
        "colab_type": "code",
        "outputId": "b26136d6-ffc3-44d7-8035-5882e2eb4e98",
        "colab": {
          "base_uri": "https://localhost:8080/",
          "height": 34
        }
      },
      "cell_type": "code",
      "source": [
        "!kaggle datasets download -d nih-chest-xrays/sample"
      ],
      "execution_count": 0,
      "outputs": [
        {
          "output_type": "stream",
          "text": [
            "sample.zip: Skipping, found more recently modified local copy (use --force to force download)\n"
          ],
          "name": "stdout"
        }
      ]
    },
    {
      "metadata": {
        "id": "zOV6PsSiyNZa",
        "colab_type": "code",
        "colab": {}
      },
      "cell_type": "code",
      "source": [
        "import zipfile\n",
        "zip_ref = zipfile.ZipFile('drive/My Drive/NIH_dataset/images/sample.zip', 'r')\n",
        "zip_ref.extractall('drive/My Drive/NIH_dataset/images/')\n",
        "zip_ref.close()\n"
      ],
      "execution_count": 0,
      "outputs": []
    },
    {
      "metadata": {
        "id": "aUiNribr1EkE",
        "colab_type": "code",
        "outputId": "740fcce2-7fd8-49d1-922d-589be7d734bd",
        "colab": {
          "base_uri": "https://localhost:8080/",
          "height": 69
        }
      },
      "cell_type": "code",
      "source": [
        "!unzip sample.zip -d \"drive/My Drive/NIH_dataset/images\"\n"
      ],
      "execution_count": 0,
      "outputs": [
        {
          "output_type": "stream",
          "text": [
            "Archive:  sample.zip\n",
            "  inflating: drive/My Drive/NIH_dataset/images/sample_labels.csv  \n",
            "  inflating: drive/My Drive/NIH_dataset/images/sample.zip  \n"
          ],
          "name": "stdout"
        }
      ]
    },
    {
      "metadata": {
        "id": "ZGB-8pMs3QEA",
        "colab_type": "code",
        "outputId": "cb04e430-d729-467c-f7e6-db94845bdcb1",
        "colab": {
          "base_uri": "https://localhost:8080/",
          "height": 34
        }
      },
      "cell_type": "code",
      "source": [
        "!mkdir NIH_data"
      ],
      "execution_count": 0,
      "outputs": [
        {
          "output_type": "stream",
          "text": [
            "mkdir: cannot create directory ‘NIH_data’: File exists\n"
          ],
          "name": "stdout"
        }
      ]
    },
    {
      "metadata": {
        "id": "oWwqU5aa3wK9",
        "colab_type": "code",
        "colab": {}
      },
      "cell_type": "code",
      "source": [
        "import os\n",
        "import glob\n",
        "import cv2\n"
      ],
      "execution_count": 0,
      "outputs": []
    },
    {
      "metadata": {
        "id": "bo7o_hr636TT",
        "colab_type": "code",
        "outputId": "1236dadb-17b2-43ee-d4f3-487e7d63eda4",
        "colab": {
          "base_uri": "https://localhost:8080/",
          "height": 34
        }
      },
      "cell_type": "code",
      "source": [
        "images_path = glob.glob('/NIH_data/images/'+'*.png')\n",
        "print(images_path)\n",
        "i = 0\n",
        "for img in images_path:\n",
        "  img_file = cv2.imread(img)\n",
        "  resized_image = cv2.resize(img_file,(256,256))\n",
        "  "
      ],
      "execution_count": 0,
      "outputs": [
        {
          "output_type": "stream",
          "text": [
            "[]\n"
          ],
          "name": "stdout"
        }
      ]
    },
    {
      "metadata": {
        "id": "M3wz_4066if_",
        "colab_type": "code",
        "colab": {}
      },
      "cell_type": "code",
      "source": [
        "#!mv images \"drive/My Drive/NIH_dataset\""
      ],
      "execution_count": 0,
      "outputs": []
    },
    {
      "metadata": {
        "id": "970Bkfxt6mAE",
        "colab_type": "code",
        "colab": {
          "base_uri": "https://localhost:8080/",
          "height": 34
        },
        "outputId": "1830c86f-80cb-43f0-9e43-6674ac6cb739"
      },
      "cell_type": "code",
      "source": [
        "import os\n",
        "import pandas as pd\n",
        "import glob\n",
        "import numpy as np\n",
        "import tensorflow\n",
        "from keras.layers import Conv2D, MaxPooling2D, Flatten, Dense\n",
        "from keras.models import load_model, Model, Sequential"
      ],
      "execution_count": 4,
      "outputs": [
        {
          "output_type": "stream",
          "text": [
            "Using TensorFlow backend.\n"
          ],
          "name": "stderr"
        }
      ]
    },
    {
      "metadata": {
        "id": "L9y9d2Te_FKN",
        "colab_type": "code",
        "colab": {}
      },
      "cell_type": "code",
      "source": [
        "#PATH = os.path.abspath(os.path.join('', 'drive/My Drive/NIH_dataset/images/images'))\n",
        "#images = glob.glob(os.path.join(PATH, \"*.png\"))"
      ],
      "execution_count": 0,
      "outputs": []
    },
    {
      "metadata": {
        "id": "66nJJQAqEzJD",
        "colab_type": "code",
        "colab": {}
      },
      "cell_type": "code",
      "source": [
        ""
      ],
      "execution_count": 0,
      "outputs": []
    },
    {
      "metadata": {
        "id": "IZMhXIsZBXJf",
        "colab_type": "code",
        "outputId": "af036cd9-e3fb-4cb1-ebec-2390a56e29a7",
        "colab": {
          "base_uri": "https://localhost:8080/",
          "height": 72
        }
      },
      "cell_type": "code",
      "source": [
        "labels = pd.read_csv('drive/My Drive/NIH_dataset/images/sample_labels.csv')\n",
        "PATH = os.path.abspath(os.path.join('', 'drive/My Drive/NIH_dataset/images/images'))\n",
        "print(PATH)\n",
        "images = {os.path.basename(x): x for x in \n",
        "                   glob.glob(os.path.join(PATH, \"*.png\"))}\n",
        "\n",
        "labels['path'] = labels['Image Index'].map(images.get)\n",
        "labels['Patient Age'] = labels['Patient Age'].map(lambda x: int(x[:-1]))\n",
        "label_counts = labels['Finding Labels'].value_counts()[:15]\n",
        "labels['Finding Labels'] = labels['Finding Labels'].map(lambda x: x.replace('No Finding', ''))\n",
        "\n",
        "from itertools import chain\n",
        "all_labels = np.unique(list(chain(*labels['Finding Labels'].map(lambda x: x.split('|')).tolist())))\n",
        "all_labels = [x for x in all_labels if len(x)>0]\n",
        "\n",
        "\n",
        "#the classes as the headers\n",
        "for c_label in all_labels:\n",
        "    if len(c_label)>1: # leave out empty labels\n",
        "        labels[c_label] = labels['Finding Labels'].map(lambda finding: 1.0 if c_label in finding else 0)\n",
        "        \n",
        "        \n",
        "MIN_CASES = 99\n",
        "all_labels = [c_label for c_label in all_labels if labels[c_label].sum()>MIN_CASES]\n",
        "print('Clean Labels ({})'.format(len(all_labels)), \n",
        "      [(c_label,int(labels[c_label].sum())) for c_label in all_labels])"
      ],
      "execution_count": 5,
      "outputs": [
        {
          "output_type": "stream",
          "text": [
            "/content/drive/My Drive/NIH_dataset/images/images\n",
            "Clean Labels (11) [('Atelectasis', 508), ('Cardiomegaly', 141), ('Consolidation', 226), ('Edema', 118), ('Effusion', 644), ('Emphysema', 127), ('Infiltration', 967), ('Mass', 284), ('Nodule', 313), ('Pleural_Thickening', 176), ('Pneumothorax', 271)]\n"
          ],
          "name": "stdout"
        }
      ]
    },
    {
      "metadata": {
        "id": "DgLVydKRkul0",
        "colab_type": "code",
        "colab": {}
      },
      "cell_type": "code",
      "source": [
        ""
      ],
      "execution_count": 0,
      "outputs": []
    },
    {
      "metadata": {
        "id": "inj0RU44B717",
        "colab_type": "code",
        "colab": {}
      },
      "cell_type": "code",
      "source": [
        "sample_weights = labels['Finding Labels'].map(lambda x: len(x.split('|')) if len(x)>0 else 0).values + 4e-2\n",
        "sample_weights /= sample_weights.sum()\n",
        "labels = labels.sample(5606, weights=sample_weights)"
      ],
      "execution_count": 0,
      "outputs": []
    },
    {
      "metadata": {
        "id": "sNuigHtwCDi9",
        "colab_type": "code",
        "colab": {}
      },
      "cell_type": "code",
      "source": [
        "labels['disease_vec'] = labels.apply(lambda x: [x[all_labels].values], 1).map(lambda x: x[0])"
      ],
      "execution_count": 0,
      "outputs": []
    },
    {
      "metadata": {
        "id": "hNJ84jnoCGnd",
        "colab_type": "code",
        "outputId": "55c63823-7d6c-4bae-b5fe-51331066175f",
        "colab": {
          "base_uri": "https://localhost:8080/",
          "height": 34
        }
      },
      "cell_type": "code",
      "source": [
        "from sklearn.model_selection import train_test_split\n",
        "train, validation = train_test_split(labels, \n",
        "                                test_size = 0.25, \n",
        "                                   random_state = 2018,\n",
        "                                   stratify = labels['Finding Labels'].map(lambda x: x[:4]))\n",
        "print('train', train.shape[0], 'validation', validation.shape[0])"
      ],
      "execution_count": 8,
      "outputs": [
        {
          "output_type": "stream",
          "text": [
            "train 4204 validation 1402\n"
          ],
          "name": "stdout"
        }
      ]
    },
    {
      "metadata": {
        "id": "49Eb0QAECNkV",
        "colab_type": "code",
        "colab": {}
      },
      "cell_type": "code",
      "source": [
        "from keras.preprocessing.image import ImageDataGenerator\n",
        "IMG_SIZE = (256, 256)\n",
        "core_idg = ImageDataGenerator(samplewise_center=True, \n",
        "                              samplewise_std_normalization=True, \n",
        "                              horizontal_flip = True, \n",
        "                              vertical_flip = False, \n",
        "                              height_shift_range= 0.05, \n",
        "                              width_shift_range=0.1, \n",
        "                              rotation_range=5, \n",
        "                              shear_range = 0.1,\n",
        "                              fill_mode = 'reflect',\n",
        "                              zoom_range=0.15)"
      ],
      "execution_count": 0,
      "outputs": []
    },
    {
      "metadata": {
        "id": "V6yhJ50pCSB_",
        "colab_type": "code",
        "colab": {}
      },
      "cell_type": "code",
      "source": [
        "def flow_from_dataframe(img_data_gen, in_df, path_col, y_col, **dflow_args):\n",
        "    base_dir = os.path.dirname(in_df[path_col].values[0])\n",
        "    print('## Ignore next message from keras, values are replaced anyways')\n",
        "    df_gen = img_data_gen.flow_from_directory(base_dir, \n",
        "                                     class_mode = 'sparse',\n",
        "                                    **dflow_args)\n",
        "    df_gen.filenames = in_df[path_col].values\n",
        "    df_gen.classes = np.stack(in_df[y_col].values)\n",
        "    df_gen.samples = in_df.shape[0]    \n",
        "    df_gen.n = in_df.shape[0]\n",
        "    df_gen._set_index_array()\n",
        "    df_gen.directory = '' # since we have the full path\n",
        "    print('Reinserting dataframe: {} images'.format(in_df.shape[0]))\n",
        "    return df_gen"
      ],
      "execution_count": 0,
      "outputs": []
    },
    {
      "metadata": {
        "id": "2Fbgi0ysCVC4",
        "colab_type": "code",
        "outputId": "cd4c96bc-36dc-4529-9e28-4c28c574bc03",
        "colab": {
          "base_uri": "https://localhost:8080/",
          "height": 173
        }
      },
      "cell_type": "code",
      "source": [
        "train_gen = flow_from_dataframe(core_idg, train, \n",
        "                             path_col = 'path',\n",
        "                            y_col = 'disease_vec', \n",
        "                            target_size = IMG_SIZE,\n",
        "                             color_mode = 'grayscale',\n",
        "                            batch_size = 32)\n",
        "\n",
        "valid_gen = flow_from_dataframe(core_idg, validation, \n",
        "                             path_col = 'path',\n",
        "                            y_col = 'disease_vec', \n",
        "                            target_size = IMG_SIZE,\n",
        "                             color_mode = 'grayscale',\n",
        "                            batch_size = 64) # we can use much larger batches for evaluation\n",
        "# used a fixed dataset for evaluating the algorithm\n",
        "test_X, test_Y = next(flow_from_dataframe(core_idg, \n",
        "                               validation, \n",
        "                             path_col = 'path',\n",
        "                            y_col = 'disease_vec', \n",
        "                            target_size = IMG_SIZE,\n",
        "                             color_mode = 'grayscale',\n",
        "                            batch_size = 256)) # one big batch"
      ],
      "execution_count": 11,
      "outputs": [
        {
          "output_type": "stream",
          "text": [
            "## Ignore next message from keras, values are replaced anyways\n",
            "Found 0 images belonging to 0 classes.\n",
            "Reinserting dataframe: 4204 images\n",
            "## Ignore next message from keras, values are replaced anyways\n",
            "Found 0 images belonging to 0 classes.\n",
            "Reinserting dataframe: 1402 images\n",
            "## Ignore next message from keras, values are replaced anyways\n",
            "Found 0 images belonging to 0 classes.\n",
            "Reinserting dataframe: 1402 images\n"
          ],
          "name": "stdout"
        }
      ]
    },
    {
      "metadata": {
        "id": "5iun0_NOyFTf",
        "colab_type": "code",
        "colab": {}
      },
      "cell_type": "code",
      "source": [
        "def create_model(all_labels):\n",
        "    classifier = Sequential()\n",
        "# Step 1 - Convolution\n",
        "    classifier.add(Conv2D(64, (3, 3), input_shape = (256, 256, 1), activation = 'relu'))\n",
        "    classifier.add(Conv2D(64, (3, 3), activation = 'relu'))\n",
        "    classifier.add(MaxPooling2D(pool_size=(2, 2)))\n",
        "    classifier.add(Conv2D(128, (3, 3), activation = 'relu'))\n",
        "    classifier.add(Conv2D(128, (3, 3), activation = 'relu'))\n",
        "    classifier.add(MaxPooling2D(pool_size=(2, 2)))\n",
        "    classifier.add(Conv2D(64, (3, 3), activation = 'relu'))\n",
        "    classifier.add(Conv2D(64, (3, 3), activation = 'relu'))\n",
        "    classifier.add(MaxPooling2D(pool_size=(2, 2)))\n",
        "    classifier.add(Conv2D(64, (3, 3), activation = 'relu'))\n",
        "    classifier.add(Flatten())\n",
        "# Step 3 - Dense layer\n",
        "    classifier.add(Dense(units = 128, activation = 'relu'))\n",
        "    classifier.add(Dense(units = 64, activation = 'relu'))\n",
        "    classifier.add(Dense(units = len(all_labels), activation = 'sigmoid'))\n",
        "# Compiling the CNN\n",
        "    classifier.compile(optimizer = 'adam', loss ='categorical_crossentropy', metrics = ['accuracy'])\n",
        "    classifier.summary()\n",
        "    return classifier\n",
        "#for categorical entropy, as the loss function accuracy was low, ans activation as softmax, acuuracy was low,\n",
        "# for LetNET the accuracy around 12-15%"
      ],
      "execution_count": 0,
      "outputs": []
    },
    {
      "metadata": {
        "id": "oboBq6NpyYtV",
        "colab_type": "code",
        "colab": {}
      },
      "cell_type": "code",
      "source": [
        "from keras.callbacks import ModelCheckpoint, LearningRateScheduler, EarlyStopping, ReduceLROnPlateau\n",
        "#weight_path=\"{}_weights.best.hdf5\".format('xray_class')\n",
        "\n",
        "#checkpoint = ModelCheckpoint(weight_path, monitor='val_loss', verbose=1, \n",
        "                            # save_best_only=True, mode='min', save_weights_only = True)\n",
        "\n",
        "early = EarlyStopping(monitor=\"val_loss\", \n",
        "                      mode=\"min\", \n",
        "                      patience=3)\n",
        "callbacks_list = [early]"
      ],
      "execution_count": 0,
      "outputs": []
    },
    {
      "metadata": {
        "id": "yQuCOJ3eyrUK",
        "colab_type": "code",
        "outputId": "23027e25-4c53-48b9-9ac8-aef0ec7265d6",
        "colab": {
          "base_uri": "https://localhost:8080/",
          "height": 34
        }
      },
      "cell_type": "code",
      "source": [
        "from keras import backend as K\n",
        "K.tensorflow_backend._get_available_gpus()"
      ],
      "execution_count": 16,
      "outputs": [
        {
          "output_type": "execute_result",
          "data": {
            "text/plain": [
              "['/job:localhost/replica:0/task:0/device:GPU:0']"
            ]
          },
          "metadata": {
            "tags": []
          },
          "execution_count": 16
        }
      ]
    },
    {
      "metadata": {
        "id": "uzIfyEwGyos5",
        "colab_type": "code",
        "outputId": "cd50a801-ba24-460e-dbc3-38e9192b4ee0",
        "colab": {
          "base_uri": "https://localhost:8080/",
          "height": 819
        }
      },
      "cell_type": "code",
      "source": [
        "classifier = create_model(all_labels)\n",
        "history = classifier.fit_generator(train_gen, \n",
        "                                  steps_per_epoch=100,\n",
        "                                  validation_data = (test_X, test_Y), \n",
        "                                  epochs = 5, \n",
        "                                  callbacks = callbacks_list)\n"
      ],
      "execution_count": 17,
      "outputs": [
        {
          "output_type": "stream",
          "text": [
            "_________________________________________________________________\n",
            "Layer (type)                 Output Shape              Param #   \n",
            "=================================================================\n",
            "conv2d_1 (Conv2D)            (None, 254, 254, 64)      640       \n",
            "_________________________________________________________________\n",
            "conv2d_2 (Conv2D)            (None, 252, 252, 64)      36928     \n",
            "_________________________________________________________________\n",
            "max_pooling2d_1 (MaxPooling2 (None, 126, 126, 64)      0         \n",
            "_________________________________________________________________\n",
            "conv2d_3 (Conv2D)            (None, 124, 124, 128)     73856     \n",
            "_________________________________________________________________\n",
            "conv2d_4 (Conv2D)            (None, 122, 122, 128)     147584    \n",
            "_________________________________________________________________\n",
            "max_pooling2d_2 (MaxPooling2 (None, 61, 61, 128)       0         \n",
            "_________________________________________________________________\n",
            "conv2d_5 (Conv2D)            (None, 59, 59, 64)        73792     \n",
            "_________________________________________________________________\n",
            "conv2d_6 (Conv2D)            (None, 57, 57, 64)        36928     \n",
            "_________________________________________________________________\n",
            "max_pooling2d_3 (MaxPooling2 (None, 28, 28, 64)        0         \n",
            "_________________________________________________________________\n",
            "conv2d_7 (Conv2D)            (None, 26, 26, 64)        36928     \n",
            "_________________________________________________________________\n",
            "flatten_1 (Flatten)          (None, 43264)             0         \n",
            "_________________________________________________________________\n",
            "dense_1 (Dense)              (None, 128)               5537920   \n",
            "_________________________________________________________________\n",
            "dense_2 (Dense)              (None, 64)                8256      \n",
            "_________________________________________________________________\n",
            "dense_3 (Dense)              (None, 11)                715       \n",
            "=================================================================\n",
            "Total params: 5,953,547\n",
            "Trainable params: 5,953,547\n",
            "Non-trainable params: 0\n",
            "_________________________________________________________________\n",
            "Epoch 1/5\n",
            "100/100 [==============================] - 1299s 13s/step - loss: 1.4936 - acc: 0.1159 - val_loss: 1.2658 - val_acc: 0.1250\n",
            "Epoch 2/5\n",
            "100/100 [==============================] - 478s 5s/step - loss: 1.4655 - acc: 0.1133 - val_loss: 1.2526 - val_acc: 0.1250\n",
            "Epoch 3/5\n",
            "100/100 [==============================] - 86s 864ms/step - loss: 1.4916 - acc: 0.1083 - val_loss: 1.2413 - val_acc: 0.1250\n",
            "Epoch 4/5\n",
            "100/100 [==============================] - 87s 870ms/step - loss: 1.4529 - acc: 0.1151 - val_loss: 1.2425 - val_acc: 0.1250\n",
            "Epoch 5/5\n",
            "100/100 [==============================] - 87s 865ms/step - loss: 1.4998 - acc: 0.1134 - val_loss: 1.2360 - val_acc: 0.1250\n"
          ],
          "name": "stdout"
        }
      ]
    },
    {
      "metadata": {
        "id": "EwOpjgQ_nT5u",
        "colab_type": "code",
        "outputId": "30f9e6f6-f09a-480b-a07e-d63af0057624",
        "colab": {
          "base_uri": "https://localhost:8080/",
          "height": 54
        }
      },
      "cell_type": "code",
      "source": [
        "!pip install -U -q PyDrive\n",
        "from pydrive.auth import GoogleAuth\n",
        "from pydrive.drive import GoogleDrive \n",
        "from google.colab import auth \n",
        "from oauth2client.client import GoogleCredentials\n",
        "print(all_labels)\n",
        "import json\n",
        "with open('drive/My Drive/NIH_dataset/all_labels.json', 'w') as outfile:\n",
        "  json.dump(all_labels, outfile)\n",
        "\n"
      ],
      "execution_count": 18,
      "outputs": [
        {
          "output_type": "stream",
          "text": [
            "['Atelectasis', 'Cardiomegaly', 'Consolidation', 'Edema', 'Effusion', 'Emphysema', 'Infiltration', 'Mass', 'Nodule', 'Pleural_Thickening', 'Pneumothorax']\n"
          ],
          "name": "stdout"
        }
      ]
    },
    {
      "metadata": {
        "id": "LjT2n_D460ls",
        "colab_type": "code",
        "colab": {}
      },
      "cell_type": "code",
      "source": [
        "auth.authenticate_user()\n",
        "gauth = GoogleAuth()\n",
        "gauth.credentials = GoogleCredentials.get_application_default()                       \n",
        "drive = GoogleDrive(gauth)"
      ],
      "execution_count": 0,
      "outputs": []
    },
    {
      "metadata": {
        "id": "UPv_Ygu_65ME",
        "colab_type": "code",
        "colab": {}
      },
      "cell_type": "code",
      "source": [
        "classifier.save('drive/My Drive/NIH_dataset/model_1.h5')\n",
        "model_file = drive.CreateFile({'title' : 'model_1.h5'})"
      ],
      "execution_count": 0,
      "outputs": []
    },
    {
      "metadata": {
        "id": "zTdxQAHx69Qu",
        "colab_type": "code",
        "colab": {
          "base_uri": "https://localhost:8080/",
          "height": 34
        },
        "outputId": "68dc0c99-3a62-404d-dbcd-57613031eb61"
      },
      "cell_type": "code",
      "source": [
        "drive.CreateFile({'id': model_file.get('id')})"
      ],
      "execution_count": 27,
      "outputs": [
        {
          "output_type": "execute_result",
          "data": {
            "text/plain": [
              "GoogleDriveFile({'id': None})"
            ]
          },
          "metadata": {
            "tags": []
          },
          "execution_count": 27
        }
      ]
    },
    {
      "metadata": {
        "id": "dFFkspqN7BCL",
        "colab_type": "code",
        "colab": {}
      },
      "cell_type": "code",
      "source": [
        "file_obj = drive.CreateFile({'id': 'None'})                      \n",
        "file_obj.GetContentFile('keras.h5')\n"
      ],
      "execution_count": 0,
      "outputs": []
    },
    {
      "metadata": {
        "id": "ZMqV_wWYlPfh",
        "colab_type": "code",
        "colab": {
          "base_uri": "https://localhost:8080/",
          "height": 662
        },
        "outputId": "58b1e97c-21eb-472d-d0e2-83fd21509e78"
      },
      "cell_type": "code",
      "source": [
        "print(all_labels)\n",
        "classifier = create_model(all_labels)\n",
        "classifier.load_weights('drive/My Drive/NIH_dataset/model_1.h5')"
      ],
      "execution_count": 28,
      "outputs": [
        {
          "output_type": "stream",
          "text": [
            "['Atelectasis', 'Cardiomegaly', 'Consolidation', 'Edema', 'Effusion', 'Emphysema', 'Infiltration', 'Mass', 'Nodule', 'Pleural_Thickening', 'Pneumothorax']\n",
            "_________________________________________________________________\n",
            "Layer (type)                 Output Shape              Param #   \n",
            "=================================================================\n",
            "conv2d_15 (Conv2D)           (None, 254, 254, 64)      640       \n",
            "_________________________________________________________________\n",
            "conv2d_16 (Conv2D)           (None, 252, 252, 64)      36928     \n",
            "_________________________________________________________________\n",
            "max_pooling2d_7 (MaxPooling2 (None, 126, 126, 64)      0         \n",
            "_________________________________________________________________\n",
            "conv2d_17 (Conv2D)           (None, 124, 124, 128)     73856     \n",
            "_________________________________________________________________\n",
            "conv2d_18 (Conv2D)           (None, 122, 122, 128)     147584    \n",
            "_________________________________________________________________\n",
            "max_pooling2d_8 (MaxPooling2 (None, 61, 61, 128)       0         \n",
            "_________________________________________________________________\n",
            "conv2d_19 (Conv2D)           (None, 59, 59, 64)        73792     \n",
            "_________________________________________________________________\n",
            "conv2d_20 (Conv2D)           (None, 57, 57, 64)        36928     \n",
            "_________________________________________________________________\n",
            "max_pooling2d_9 (MaxPooling2 (None, 28, 28, 64)        0         \n",
            "_________________________________________________________________\n",
            "conv2d_21 (Conv2D)           (None, 26, 26, 64)        36928     \n",
            "_________________________________________________________________\n",
            "flatten_3 (Flatten)          (None, 43264)             0         \n",
            "_________________________________________________________________\n",
            "dense_7 (Dense)              (None, 128)               5537920   \n",
            "_________________________________________________________________\n",
            "dense_8 (Dense)              (None, 64)                8256      \n",
            "_________________________________________________________________\n",
            "dense_9 (Dense)              (None, 11)                715       \n",
            "=================================================================\n",
            "Total params: 5,953,547\n",
            "Trainable params: 5,953,547\n",
            "Non-trainable params: 0\n",
            "_________________________________________________________________\n"
          ],
          "name": "stdout"
        }
      ]
    },
    {
      "metadata": {
        "id": "NGbA0l_dmTBX",
        "colab_type": "code",
        "colab": {
          "base_uri": "https://localhost:8080/",
          "height": 34
        },
        "outputId": "3ba724b7-e954-4576-9ebc-5949161da1e3"
      },
      "cell_type": "code",
      "source": [
        "pred_Y = classifier.predict(test_X, batch_size = 32, verbose = True)\n"
      ],
      "execution_count": 29,
      "outputs": [
        {
          "output_type": "stream",
          "text": [
            "256/256 [==============================] - 2s 7ms/step\n"
          ],
          "name": "stdout"
        }
      ]
    },
    {
      "metadata": {
        "id": "l8FKiKaxmhqA",
        "colab_type": "code",
        "colab": {
          "base_uri": "https://localhost:8080/",
          "height": 208
        },
        "outputId": "2f86d1a2-cf16-4b95-cb28-5ca694e17918"
      },
      "cell_type": "code",
      "source": [
        "for c_label, p_count, t_count in zip(all_labels, \n",
        "                                     100*np.mean(pred_Y,0), \n",
        "                                     100*np.mean(test_Y,0)):\n",
        "    print('%s: Dx: %2.2f%%, PDx: %2.2f%%' % (c_label, t_count, p_count))"
      ],
      "execution_count": 30,
      "outputs": [
        {
          "output_type": "stream",
          "text": [
            "Atelectasis: Dx: 7.42%, PDx: 49.60%\n",
            "Cardiomegaly: Dx: 1.17%, PDx: 50.08%\n",
            "Consolidation: Dx: 3.52%, PDx: 50.10%\n",
            "Edema: Dx: 2.34%, PDx: 49.52%\n",
            "Effusion: Dx: 10.16%, PDx: 49.98%\n",
            "Emphysema: Dx: 2.73%, PDx: 49.63%\n",
            "Infiltration: Dx: 18.36%, PDx: 49.73%\n",
            "Mass: Dx: 4.69%, PDx: 50.04%\n",
            "Nodule: Dx: 3.52%, PDx: 49.46%\n",
            "Pleural_Thickening: Dx: 1.56%, PDx: 50.09%\n",
            "Pneumothorax: Dx: 3.52%, PDx: 50.25%\n"
          ],
          "name": "stdout"
        }
      ]
    },
    {
      "metadata": {
        "id": "ynhOyOP8mmN2",
        "colab_type": "code",
        "colab": {
          "base_uri": "https://localhost:8080/",
          "height": 17800
        },
        "outputId": "4b455f51-4a46-4054-ffff-4e579c49763f"
      },
      "cell_type": "code",
      "source": [
        "sickest_idx = np.argsort(np.sum(test_Y, 1)>1)\n",
        "for idx in sickest_idx:\n",
        "    original_tags = [n_class[:4] for n_class, n_score in zip(all_labels, \n",
        "                                                                  test_Y[idx]) \n",
        "                             if n_score>0.5]\n",
        "    pred_tag = ['%s:%2.0f%%' % (n_class[:4], p_score*100)  for n_class, n_score, p_score in zip(all_labels, \n",
        "                                                                  test_Y[idx], pred_Y[idx]) \n",
        "                             if (n_score>0.5) or (p_score>0.5)]\n",
        "    print('Original: '+', '.join(original_tags)+'\\nPredicted: '+', '.join(pred_tag))\n",
        "    print('\\n')"
      ],
      "execution_count": 31,
      "outputs": [
        {
          "output_type": "stream",
          "text": [
            "Original: Infi\n",
            "Predicted: Card:50%, Cons:50%, Effu:50%, Infi:50%, Pleu:50%, Pneu:50%\n",
            "\n",
            "\n",
            "Original: Emph\n",
            "Predicted: Card:50%, Cons:50%, Emph:50%, Pleu:50%, Pneu:50%\n",
            "\n",
            "\n",
            "Original: Infi\n",
            "Predicted: Card:50%, Infi:50%, Mass:50%, Pleu:50%, Pneu:50%\n",
            "\n",
            "\n",
            "Original: Effu\n",
            "Predicted: Cons:50%, Effu:50%, Mass:50%, Pleu:50%, Pneu:50%\n",
            "\n",
            "\n",
            "Original: \n",
            "Predicted: Card:50%, Cons:50%, Effu:50%, Pleu:50%, Pneu:50%\n",
            "\n",
            "\n",
            "Original: Infi\n",
            "Predicted: Card:50%, Infi:50%, Mass:50%, Pneu:50%\n",
            "\n",
            "\n",
            "Original: \n",
            "Predicted: Card:50%, Cons:50%, Mass:50%, Pleu:50%, Pneu:50%\n",
            "\n",
            "\n",
            "Original: \n",
            "Predicted: Card:50%, Cons:50%, Mass:50%, Pleu:50%, Pneu:50%\n",
            "\n",
            "\n",
            "Original: \n",
            "Predicted: Card:50%, Cons:50%, Effu:50%, Mass:50%, Pleu:50%, Pneu:50%\n",
            "\n",
            "\n",
            "Original: \n",
            "Predicted: Card:50%, Effu:50%, Mass:50%, Pleu:50%, Pneu:50%\n",
            "\n",
            "\n",
            "Original: Card\n",
            "Predicted: Card:50%, Cons:50%, Effu:50%, Pleu:50%, Pneu:50%\n",
            "\n",
            "\n",
            "Original: \n",
            "Predicted: Card:50%, Cons:50%, Effu:50%, Pleu:50%, Pneu:50%\n",
            "\n",
            "\n",
            "Original: \n",
            "Predicted: Card:50%, Cons:50%, Mass:50%, Pleu:50%, Pneu:50%\n",
            "\n",
            "\n",
            "Original: \n",
            "Predicted: Card:50%, Cons:50%, Effu:50%, Mass:50%, Pleu:50%, Pneu:50%\n",
            "\n",
            "\n",
            "Original: \n",
            "Predicted: Card:50%, Effu:50%, Pneu:50%\n",
            "\n",
            "\n",
            "Original: \n",
            "Predicted: Card:50%, Cons:50%, Effu:50%, Mass:50%, Pleu:50%, Pneu:50%\n",
            "\n",
            "\n",
            "Original: \n",
            "Predicted: Card:50%, Cons:50%, Effu:50%, Pleu:50%, Pneu:50%\n",
            "\n",
            "\n",
            "Original: Effu\n",
            "Predicted: Card:50%, Effu:50%, Mass:50%, Pneu:50%\n",
            "\n",
            "\n",
            "Original: \n",
            "Predicted: Card:50%, Cons:50%, Effu:50%, Pleu:50%, Pneu:50%\n",
            "\n",
            "\n",
            "Original: \n",
            "Predicted: Card:50%, Cons:50%, Effu:50%, Pneu:50%\n",
            "\n",
            "\n",
            "Original: \n",
            "Predicted: Cons:50%, Effu:50%, Pleu:50%, Pneu:50%\n",
            "\n",
            "\n",
            "Original: Infi\n",
            "Predicted: Card:50%, Infi:50%, Mass:50%, Pneu:50%\n",
            "\n",
            "\n",
            "Original: Infi\n",
            "Predicted: Card:50%, Infi:50%, Mass:50%, Pneu:50%\n",
            "\n",
            "\n",
            "Original: \n",
            "Predicted: Card:50%, Cons:50%, Mass:50%, Pleu:50%, Pneu:50%\n",
            "\n",
            "\n",
            "Original: \n",
            "Predicted: Card:50%, Mass:50%, Pleu:50%, Pneu:50%\n",
            "\n",
            "\n",
            "Original: Atel\n",
            "Predicted: Atel:49%, Card:50%, Cons:50%, Mass:50%, Pleu:50%, Pneu:50%\n",
            "\n",
            "\n",
            "Original: \n",
            "Predicted: Card:50%, Cons:50%, Effu:50%, Mass:50%, Pleu:50%, Pneu:50%\n",
            "\n",
            "\n",
            "Original: \n",
            "Predicted: Card:50%, Mass:50%, Pleu:50%, Pneu:50%\n",
            "\n",
            "\n",
            "Original: Infi\n",
            "Predicted: Card:50%, Cons:50%, Effu:50%, Infi:50%, Pleu:50%, Pneu:50%\n",
            "\n",
            "\n",
            "Original: \n",
            "Predicted: Card:50%, Cons:50%, Mass:50%, Pleu:50%, Pneu:50%\n",
            "\n",
            "\n",
            "Original: \n",
            "Predicted: Card:50%, Pleu:50%, Pneu:50%\n",
            "\n",
            "\n",
            "Original: \n",
            "Predicted: Card:50%, Cons:50%, Effu:50%, Pleu:50%, Pneu:50%\n",
            "\n",
            "\n",
            "Original: Atel\n",
            "Predicted: Atel:49%, Card:50%, Cons:50%, Effu:50%, Mass:50%, Pleu:50%, Pneu:50%\n",
            "\n",
            "\n",
            "Original: \n",
            "Predicted: Card:50%, Cons:50%, Pleu:50%, Pneu:50%\n",
            "\n",
            "\n",
            "Original: \n",
            "Predicted: Card:50%, Mass:50%, Pneu:50%\n",
            "\n",
            "\n",
            "Original: Infi\n",
            "Predicted: Card:50%, Cons:50%, Infi:50%, Mass:50%, Pleu:50%, Pneu:50%\n",
            "\n",
            "\n",
            "Original: \n",
            "Predicted: Card:50%, Cons:50%, Mass:50%, Pleu:50%, Pneu:50%\n",
            "\n",
            "\n",
            "Original: \n",
            "Predicted: Card:50%, Cons:50%, Effu:50%, Pleu:50%, Pneu:50%\n",
            "\n",
            "\n",
            "Original: Cons\n",
            "Predicted: Card:50%, Cons:50%, Effu:50%, Pleu:50%, Pneu:50%\n",
            "\n",
            "\n",
            "Original: \n",
            "Predicted: Card:50%, Cons:50%, Effu:50%, Mass:50%, Pleu:50%, Pneu:50%\n",
            "\n",
            "\n",
            "Original: Infi\n",
            "Predicted: Card:50%, Cons:50%, Effu:50%, Infi:50%, Pleu:50%, Pneu:50%\n",
            "\n",
            "\n",
            "Original: \n",
            "Predicted: Card:50%, Cons:50%, Effu:50%, Mass:50%, Pleu:50%, Pneu:50%\n",
            "\n",
            "\n",
            "Original: \n",
            "Predicted: Card:50%, Cons:50%, Effu:50%, Pleu:50%, Pneu:50%\n",
            "\n",
            "\n",
            "Original: \n",
            "Predicted: Card:50%, Cons:50%, Effu:50%, Pleu:50%, Pneu:50%\n",
            "\n",
            "\n",
            "Original: \n",
            "Predicted: Card:50%, Cons:50%, Effu:50%, Pleu:50%, Pneu:50%\n",
            "\n",
            "\n",
            "Original: \n",
            "Predicted: Card:50%, Effu:50%, Pleu:50%, Pneu:50%\n",
            "\n",
            "\n",
            "Original: \n",
            "Predicted: Card:50%, Cons:50%, Effu:50%, Pleu:50%, Pneu:50%\n",
            "\n",
            "\n",
            "Original: \n",
            "Predicted: Card:50%, Cons:50%, Effu:50%, Mass:50%, Pneu:50%\n",
            "\n",
            "\n",
            "Original: Effu\n",
            "Predicted: Card:50%, Cons:50%, Effu:50%, Mass:50%, Pleu:50%, Pneu:50%\n",
            "\n",
            "\n",
            "Original: Atel\n",
            "Predicted: Atel:50%, Card:50%, Cons:50%, Effu:50%, Pleu:50%, Pneu:50%\n",
            "\n",
            "\n",
            "Original: Infi\n",
            "Predicted: Atel:50%, Card:50%, Emph:50%, Infi:50%, Mass:50%, Pneu:50%\n",
            "\n",
            "\n",
            "Original: \n",
            "Predicted: Card:50%, Cons:50%, Effu:50%, Mass:50%, Pleu:50%, Pneu:50%\n",
            "\n",
            "\n",
            "Original: Card\n",
            "Predicted: Card:50%, Cons:50%, Effu:50%, Mass:50%, Pneu:50%\n",
            "\n",
            "\n",
            "Original: Emph\n",
            "Predicted: Card:50%, Cons:50%, Emph:50%, Pleu:50%, Pneu:50%\n",
            "\n",
            "\n",
            "Original: \n",
            "Predicted: Card:50%, Cons:50%, Effu:50%, Mass:50%, Pleu:50%, Pneu:50%\n",
            "\n",
            "\n",
            "Original: \n",
            "Predicted: Card:50%, Cons:50%, Effu:50%, Pleu:50%, Pneu:50%\n",
            "\n",
            "\n",
            "Original: \n",
            "Predicted: Card:50%, Cons:50%, Pleu:50%, Pneu:50%\n",
            "\n",
            "\n",
            "Original: \n",
            "Predicted: Card:50%, Cons:50%, Effu:50%, Mass:50%, Pleu:50%, Pneu:50%\n",
            "\n",
            "\n",
            "Original: \n",
            "Predicted: Card:50%, Pleu:50%, Pneu:50%\n",
            "\n",
            "\n",
            "Original: \n",
            "Predicted: Card:50%, Mass:50%, Pleu:50%, Pneu:50%\n",
            "\n",
            "\n",
            "Original: \n",
            "Predicted: Card:50%, Cons:50%, Mass:50%, Pneu:50%\n",
            "\n",
            "\n",
            "Original: Infi\n",
            "Predicted: Atel:50%, Card:50%, Infi:50%, Pneu:51%\n",
            "\n",
            "\n",
            "Original: \n",
            "Predicted: Card:50%, Cons:50%, Effu:50%, Mass:50%, Pleu:50%, Pneu:50%\n",
            "\n",
            "\n",
            "Original: \n",
            "Predicted: Card:50%, Cons:50%, Mass:50%, Pleu:50%, Pneu:50%\n",
            "\n",
            "\n",
            "Original: Atel\n",
            "Predicted: Atel:50%, Cons:50%, Mass:50%, Pleu:50%, Pneu:50%\n",
            "\n",
            "\n",
            "Original: \n",
            "Predicted: Card:50%, Cons:50%, Mass:50%, Pleu:50%, Pneu:50%\n",
            "\n",
            "\n",
            "Original: \n",
            "Predicted: Card:50%, Cons:50%, Mass:50%, Pleu:50%, Pneu:50%\n",
            "\n",
            "\n",
            "Original: \n",
            "Predicted: Card:50%, Cons:50%, Effu:50%, Mass:50%, Pleu:50%, Pneu:50%\n",
            "\n",
            "\n",
            "Original: \n",
            "Predicted: Card:50%, Mass:50%, Pleu:50%, Pneu:50%\n",
            "\n",
            "\n",
            "Original: \n",
            "Predicted: Card:50%, Cons:50%, Mass:50%, Pleu:50%, Pneu:50%\n",
            "\n",
            "\n",
            "Original: \n",
            "Predicted: Cons:50%, Mass:50%, Pleu:50%, Pneu:50%\n",
            "\n",
            "\n",
            "Original: Pneu\n",
            "Predicted: Card:50%, Cons:50%, Mass:50%, Pleu:50%, Pneu:50%\n",
            "\n",
            "\n",
            "Original: Infi\n",
            "Predicted: Card:50%, Cons:50%, Effu:50%, Infi:50%, Mass:50%, Pleu:50%, Pneu:50%\n",
            "\n",
            "\n",
            "Original: \n",
            "Predicted: Card:50%, Cons:50%, Effu:50%, Pleu:50%, Pneu:50%\n",
            "\n",
            "\n",
            "Original: \n",
            "Predicted: Cons:50%, Mass:50%, Pleu:50%, Pneu:50%\n",
            "\n",
            "\n",
            "Original: Atel\n",
            "Predicted: Atel:49%, Card:50%, Cons:50%, Effu:50%, Pleu:50%, Pneu:50%\n",
            "\n",
            "\n",
            "Original: Effu\n",
            "Predicted: Card:50%, Cons:50%, Effu:50%, Pleu:50%, Pneu:50%\n",
            "\n",
            "\n",
            "Original: \n",
            "Predicted: Card:50%, Cons:50%, Mass:50%, Pleu:50%, Pneu:50%\n",
            "\n",
            "\n",
            "Original: \n",
            "Predicted: Card:50%, Cons:50%, Mass:50%, Pleu:50%, Pneu:50%\n",
            "\n",
            "\n",
            "Original: \n",
            "Predicted: Card:50%, Cons:50%, Effu:50%, Pleu:50%, Pneu:50%\n",
            "\n",
            "\n",
            "Original: \n",
            "Predicted: Card:50%, Cons:50%, Effu:50%, Pleu:50%, Pneu:50%\n",
            "\n",
            "\n",
            "Original: \n",
            "Predicted: Mass:50%, Pleu:50%, Pneu:50%\n",
            "\n",
            "\n",
            "Original: \n",
            "Predicted: Card:50%, Cons:50%, Mass:50%, Pleu:50%, Pneu:50%\n",
            "\n",
            "\n",
            "Original: \n",
            "Predicted: Card:50%, Cons:50%, Effu:50%, Pleu:50%, Pneu:50%\n",
            "\n",
            "\n",
            "Original: \n",
            "Predicted: Card:50%, Cons:50%, Mass:50%, Pleu:50%, Pneu:50%\n",
            "\n",
            "\n",
            "Original: \n",
            "Predicted: Card:50%, Mass:50%, Pleu:50%, Pneu:51%\n",
            "\n",
            "\n",
            "Original: Effu\n",
            "Predicted: Cons:50%, Effu:50%, Mass:50%, Pleu:50%, Pneu:50%\n",
            "\n",
            "\n",
            "Original: \n",
            "Predicted: Card:50%, Cons:50%, Effu:50%, Mass:50%, Pleu:50%, Pneu:50%\n",
            "\n",
            "\n",
            "Original: \n",
            "Predicted: Card:50%, Mass:50%, Pneu:50%\n",
            "\n",
            "\n",
            "Original: \n",
            "Predicted: Card:50%, Cons:50%, Mass:50%, Pleu:50%, Pneu:50%\n",
            "\n",
            "\n",
            "Original: Effu\n",
            "Predicted: Card:50%, Cons:50%, Effu:50%, Mass:50%, Pleu:50%, Pneu:50%\n",
            "\n",
            "\n",
            "Original: Infi\n",
            "Predicted: Card:50%, Cons:50%, Effu:50%, Infi:50%, Mass:50%, Pneu:50%\n",
            "\n",
            "\n",
            "Original: \n",
            "Predicted: Card:50%, Cons:50%, Effu:50%, Pneu:50%\n",
            "\n",
            "\n",
            "Original: Infi\n",
            "Predicted: Card:50%, Cons:50%, Effu:50%, Infi:50%, Pleu:50%, Pneu:50%\n",
            "\n",
            "\n",
            "Original: Effu\n",
            "Predicted: Card:50%, Cons:50%, Effu:50%, Mass:50%, Pleu:50%, Pneu:50%\n",
            "\n",
            "\n",
            "Original: Mass\n",
            "Predicted: Card:50%, Cons:50%, Effu:50%, Mass:50%, Pleu:50%, Pneu:50%\n",
            "\n",
            "\n",
            "Original: Infi\n",
            "Predicted: Card:50%, Infi:50%, Mass:50%, Pleu:50%, Pneu:50%\n",
            "\n",
            "\n",
            "Original: \n",
            "Predicted: Card:50%, Cons:50%, Effu:50%, Mass:50%, Pneu:50%\n",
            "\n",
            "\n",
            "Original: \n",
            "Predicted: Cons:50%, Mass:50%, Pleu:50%, Pneu:50%\n",
            "\n",
            "\n",
            "Original: \n",
            "Predicted: Card:50%, Mass:50%, Pneu:50%\n",
            "\n",
            "\n",
            "Original: Emph\n",
            "Predicted: Card:50%, Cons:50%, Emph:50%, Mass:50%, Pleu:50%, Pneu:50%\n",
            "\n",
            "\n",
            "Original: Pneu\n",
            "Predicted: Card:50%, Cons:50%, Effu:50%, Mass:50%, Pleu:50%, Pneu:50%\n",
            "\n",
            "\n",
            "Original: \n",
            "Predicted: Card:50%, Cons:50%, Pneu:50%\n",
            "\n",
            "\n",
            "Original: \n",
            "Predicted: Card:50%, Cons:50%, Mass:50%, Pleu:50%, Pneu:50%\n",
            "\n",
            "\n",
            "Original: \n",
            "Predicted: Card:50%, Mass:50%, Pneu:50%\n",
            "\n",
            "\n",
            "Original: \n",
            "Predicted: Card:50%, Mass:50%, Pleu:50%, Pneu:50%\n",
            "\n",
            "\n",
            "Original: \n",
            "Predicted: Card:50%, Cons:50%, Mass:50%, Pleu:50%, Pneu:50%\n",
            "\n",
            "\n",
            "Original: \n",
            "Predicted: Cons:50%, Effu:50%, Pleu:50%, Pneu:50%\n",
            "\n",
            "\n",
            "Original: \n",
            "Predicted: Card:50%, Cons:50%, Effu:50%, Mass:50%, Pneu:50%\n",
            "\n",
            "\n",
            "Original: \n",
            "Predicted: Card:50%, Cons:50%, Effu:50%, Mass:50%, Pleu:50%, Pneu:50%\n",
            "\n",
            "\n",
            "Original: \n",
            "Predicted: Card:50%, Cons:50%, Mass:50%, Pleu:50%, Pneu:50%\n",
            "\n",
            "\n",
            "Original: Infi\n",
            "Predicted: Card:50%, Cons:50%, Effu:50%, Infi:50%, Pleu:50%, Pneu:50%\n",
            "\n",
            "\n",
            "Original: \n",
            "Predicted: Card:50%, Cons:50%, Mass:50%, Pneu:50%\n",
            "\n",
            "\n",
            "Original: Nodu\n",
            "Predicted: Cons:50%, Effu:50%, Nodu:50%, Pleu:50%, Pneu:50%\n",
            "\n",
            "\n",
            "Original: \n",
            "Predicted: Card:50%, Cons:50%, Pleu:50%, Pneu:50%\n",
            "\n",
            "\n",
            "Original: \n",
            "Predicted: Card:50%, Cons:50%, Pleu:50%, Pneu:50%\n",
            "\n",
            "\n",
            "Original: \n",
            "Predicted: Card:50%, Cons:50%, Effu:50%, Mass:50%, Pneu:50%\n",
            "\n",
            "\n",
            "Original: \n",
            "Predicted: Cons:50%, Mass:50%, Pleu:50%, Pneu:50%\n",
            "\n",
            "\n",
            "Original: \n",
            "Predicted: Card:50%, Cons:50%, Effu:50%, Mass:50%, Pleu:50%, Pneu:50%\n",
            "\n",
            "\n",
            "Original: Atel\n",
            "Predicted: Atel:50%, Cons:50%, Effu:50%, Pleu:50%, Pneu:50%\n",
            "\n",
            "\n",
            "Original: \n",
            "Predicted: Card:50%, Cons:50%, Effu:50%, Pleu:50%, Pneu:50%\n",
            "\n",
            "\n",
            "Original: \n",
            "Predicted: Card:50%, Cons:50%, Effu:50%, Pleu:50%, Pneu:50%\n",
            "\n",
            "\n",
            "Original: Infi\n",
            "Predicted: Card:50%, Cons:50%, Infi:50%, Mass:50%, Pleu:50%, Pneu:50%\n",
            "\n",
            "\n",
            "Original: \n",
            "Predicted: Card:50%, Mass:50%, Pneu:50%\n",
            "\n",
            "\n",
            "Original: \n",
            "Predicted: Cons:50%, Mass:50%, Pleu:50%, Pneu:50%\n",
            "\n",
            "\n",
            "Original: Infi\n",
            "Predicted: Cons:50%, Infi:50%, Pleu:50%, Pneu:50%\n",
            "\n",
            "\n",
            "Original: \n",
            "Predicted: Card:50%, Cons:50%, Mass:50%, Pneu:50%\n",
            "\n",
            "\n",
            "Original: \n",
            "Predicted: Card:50%, Mass:50%, Pleu:50%, Pneu:50%\n",
            "\n",
            "\n",
            "Original: \n",
            "Predicted: Pleu:50%, Pneu:50%\n",
            "\n",
            "\n",
            "Original: Infi\n",
            "Predicted: Cons:50%, Effu:50%, Infi:50%, Mass:50%, Pleu:50%, Pneu:50%\n",
            "\n",
            "\n",
            "Original: \n",
            "Predicted: Card:50%, Cons:50%, Effu:50%, Pleu:50%, Pneu:50%\n",
            "\n",
            "\n",
            "Original: Mass\n",
            "Predicted: Card:50%, Cons:50%, Effu:50%, Mass:50%, Pneu:50%\n",
            "\n",
            "\n",
            "Original: Infi\n",
            "Predicted: Card:50%, Cons:50%, Effu:50%, Infi:50%, Pleu:50%, Pneu:50%\n",
            "\n",
            "\n",
            "Original: \n",
            "Predicted: Card:50%, Cons:50%, Effu:50%, Mass:50%, Pleu:50%, Pneu:50%\n",
            "\n",
            "\n",
            "Original: Mass\n",
            "Predicted: Card:50%, Cons:50%, Mass:50%, Pleu:50%, Pneu:50%\n",
            "\n",
            "\n",
            "Original: Infi\n",
            "Predicted: Card:50%, Infi:50%, Mass:50%, Pneu:50%\n",
            "\n",
            "\n",
            "Original: Infi\n",
            "Predicted: Card:50%, Infi:50%, Mass:50%, Pleu:50%, Pneu:50%\n",
            "\n",
            "\n",
            "Original: \n",
            "Predicted: Card:50%, Cons:50%, Mass:50%, Pleu:50%, Pneu:50%\n",
            "\n",
            "\n",
            "Original: \n",
            "Predicted: Card:50%, Cons:50%, Mass:50%, Pleu:50%, Pneu:50%\n",
            "\n",
            "\n",
            "Original: \n",
            "Predicted: Card:50%, Cons:50%, Mass:50%, Pleu:50%, Pneu:50%\n",
            "\n",
            "\n",
            "Original: \n",
            "Predicted: Card:50%, Cons:50%, Effu:50%, Mass:50%, Pleu:50%, Pneu:50%\n",
            "\n",
            "\n",
            "Original: \n",
            "Predicted: Card:50%, Cons:50%, Mass:50%, Pleu:50%, Pneu:50%\n",
            "\n",
            "\n",
            "Original: \n",
            "Predicted: Card:50%, Effu:50%, Mass:50%, Pneu:50%\n",
            "\n",
            "\n",
            "Original: \n",
            "Predicted: Card:50%, Mass:50%, Pleu:50%, Pneu:50%\n",
            "\n",
            "\n",
            "Original: Effu\n",
            "Predicted: Card:50%, Cons:50%, Effu:50%, Pleu:50%, Pneu:50%\n",
            "\n",
            "\n",
            "Original: \n",
            "Predicted: Cons:50%, Effu:50%, Pleu:50%, Pneu:50%\n",
            "\n",
            "\n",
            "Original: \n",
            "Predicted: Card:50%, Cons:50%, Mass:50%, Pneu:50%\n",
            "\n",
            "\n",
            "Original: \n",
            "Predicted: Card:50%, Cons:50%, Effu:50%, Pleu:50%, Pneu:50%\n",
            "\n",
            "\n",
            "Original: \n",
            "Predicted: Card:50%, Cons:50%, Mass:50%, Pleu:50%, Pneu:50%\n",
            "\n",
            "\n",
            "Original: \n",
            "Predicted: Card:50%, Cons:50%, Effu:50%, Pleu:50%, Pneu:50%\n",
            "\n",
            "\n",
            "Original: \n",
            "Predicted: Card:50%, Effu:50%, Mass:50%, Pneu:50%\n",
            "\n",
            "\n",
            "Original: \n",
            "Predicted: Card:50%, Mass:50%, Pleu:50%, Pneu:50%\n",
            "\n",
            "\n",
            "Original: Effu\n",
            "Predicted: Cons:50%, Effu:50%, Mass:50%, Pneu:50%\n",
            "\n",
            "\n",
            "Original: Pneu\n",
            "Predicted: Card:50%, Cons:50%, Effu:50%, Pleu:50%, Pneu:50%\n",
            "\n",
            "\n",
            "Original: \n",
            "Predicted: Card:50%, Cons:50%, Effu:50%, Pleu:50%, Pneu:50%\n",
            "\n",
            "\n",
            "Original: \n",
            "Predicted: Card:50%, Cons:50%, Pleu:50%, Pneu:50%\n",
            "\n",
            "\n",
            "Original: \n",
            "Predicted: Card:50%, Cons:50%, Effu:50%, Mass:50%, Pleu:50%, Pneu:50%\n",
            "\n",
            "\n",
            "Original: \n",
            "Predicted: Card:50%, Cons:50%, Mass:50%, Pleu:50%, Pneu:50%\n",
            "\n",
            "\n",
            "Original: Infi\n",
            "Predicted: Card:50%, Infi:50%, Mass:50%, Pneu:50%\n",
            "\n",
            "\n",
            "Original: Pleu\n",
            "Predicted: Card:50%, Cons:50%, Pleu:50%, Pneu:50%\n",
            "\n",
            "\n",
            "Original: Nodu\n",
            "Predicted: Card:50%, Cons:50%, Mass:50%, Nodu:49%, Pleu:50%, Pneu:50%\n",
            "\n",
            "\n",
            "Original: \n",
            "Predicted: Card:50%, Cons:50%, Mass:50%, Pneu:50%\n",
            "\n",
            "\n",
            "Original: \n",
            "Predicted: Card:50%, Pleu:50%, Pneu:50%\n",
            "\n",
            "\n",
            "Original: Cons\n",
            "Predicted: Card:50%, Cons:50%, Effu:50%, Pleu:50%, Pneu:50%\n",
            "\n",
            "\n",
            "Original: Nodu\n",
            "Predicted: Card:50%, Mass:50%, Nodu:50%, Pneu:50%\n",
            "\n",
            "\n",
            "Original: \n",
            "Predicted: Card:50%, Cons:50%, Effu:50%, Pleu:50%, Pneu:50%\n",
            "\n",
            "\n",
            "Original: \n",
            "Predicted: Card:50%, Cons:50%, Mass:50%, Pleu:50%, Pneu:50%\n",
            "\n",
            "\n",
            "Original: \n",
            "Predicted: Card:50%, Cons:50%, Effu:50%, Pleu:50%, Pneu:50%\n",
            "\n",
            "\n",
            "Original: \n",
            "Predicted: Card:50%, Mass:50%, Pneu:50%\n",
            "\n",
            "\n",
            "Original: Infi\n",
            "Predicted: Cons:50%, Effu:50%, Infi:50%, Pleu:50%, Pneu:50%\n",
            "\n",
            "\n",
            "Original: \n",
            "Predicted: Card:50%, Mass:50%, Pleu:50%, Pneu:50%\n",
            "\n",
            "\n",
            "Original: \n",
            "Predicted: Card:50%, Cons:50%, Mass:50%, Pleu:50%, Pneu:50%\n",
            "\n",
            "\n",
            "Original: Infi\n",
            "Predicted: Card:50%, Cons:50%, Effu:50%, Infi:50%, Mass:50%, Pleu:50%, Pneu:50%\n",
            "\n",
            "\n",
            "Original: Pleu\n",
            "Predicted: Card:50%, Cons:50%, Effu:50%, Mass:50%, Pleu:50%, Pneu:50%\n",
            "\n",
            "\n",
            "Original: \n",
            "Predicted: Card:50%, Cons:50%, Mass:50%, Pleu:50%, Pneu:50%\n",
            "\n",
            "\n",
            "Original: \n",
            "Predicted: Card:50%, Cons:50%, Mass:50%, Pleu:50%, Pneu:50%\n",
            "\n",
            "\n",
            "Original: \n",
            "Predicted: Card:50%, Cons:50%, Mass:50%, Pleu:50%, Pneu:50%\n",
            "\n",
            "\n",
            "Original: Atel\n",
            "Predicted: Atel:50%, Card:50%, Cons:50%, Mass:50%, Pleu:50%, Pneu:50%\n",
            "\n",
            "\n",
            "Original: \n",
            "Predicted: Card:50%, Cons:50%, Effu:50%, Pneu:50%\n",
            "\n",
            "\n",
            "Original: \n",
            "Predicted: Card:50%, Cons:50%, Mass:50%, Pneu:50%\n",
            "\n",
            "\n",
            "Original: \n",
            "Predicted: Effu:50%, Mass:50%, Pleu:50%, Pneu:50%\n",
            "\n",
            "\n",
            "Original: \n",
            "Predicted: Card:50%, Cons:50%, Mass:50%, Pleu:50%, Pneu:50%\n",
            "\n",
            "\n",
            "Original: \n",
            "Predicted: Card:50%, Cons:50%, Effu:50%, Pleu:50%, Pneu:50%\n",
            "\n",
            "\n",
            "Original: \n",
            "Predicted: Card:50%, Cons:50%, Mass:50%, Pleu:50%, Pneu:50%\n",
            "\n",
            "\n",
            "Original: Infi\n",
            "Predicted: Card:50%, Cons:50%, Infi:50%, Pleu:50%, Pneu:50%\n",
            "\n",
            "\n",
            "Original: Nodu\n",
            "Predicted: Card:50%, Cons:50%, Effu:50%, Nodu:50%, Pleu:50%, Pneu:50%\n",
            "\n",
            "\n",
            "Original: \n",
            "Predicted: Card:50%, Cons:50%, Effu:50%, Mass:50%, Pleu:50%, Pneu:50%\n",
            "\n",
            "\n",
            "Original: Infi\n",
            "Predicted: Card:50%, Cons:50%, Effu:50%, Infi:50%, Pleu:50%, Pneu:50%\n",
            "\n",
            "\n",
            "Original: \n",
            "Predicted: Card:50%, Cons:50%, Mass:50%, Pleu:50%, Pneu:50%\n",
            "\n",
            "\n",
            "Original: Atel\n",
            "Predicted: Atel:50%, Card:50%, Cons:50%, Mass:50%, Pneu:50%\n",
            "\n",
            "\n",
            "Original: \n",
            "Predicted: Cons:50%, Mass:50%, Pleu:50%, Pneu:50%\n",
            "\n",
            "\n",
            "Original: \n",
            "Predicted: Card:50%, Cons:50%, Effu:50%, Pleu:50%, Pneu:50%\n",
            "\n",
            "\n",
            "Original: \n",
            "Predicted: Card:50%, Cons:50%, Effu:50%, Mass:50%, Pleu:50%, Pneu:50%\n",
            "\n",
            "\n",
            "Original: Infi\n",
            "Predicted: Card:50%, Infi:50%, Mass:50%, Pneu:50%\n",
            "\n",
            "\n",
            "Original: Atel\n",
            "Predicted: Atel:49%, Card:50%, Cons:50%, Effu:50%, Mass:50%, Pleu:50%, Pneu:50%\n",
            "\n",
            "\n",
            "Original: \n",
            "Predicted: Card:50%, Cons:50%, Effu:50%, Pleu:50%, Pneu:50%\n",
            "\n",
            "\n",
            "Original: \n",
            "Predicted: Cons:50%, Mass:50%, Pleu:50%, Pneu:50%\n",
            "\n",
            "\n",
            "Original: \n",
            "Predicted: Cons:50%, Mass:50%, Pneu:50%\n",
            "\n",
            "\n",
            "Original: \n",
            "Predicted: Card:50%, Cons:50%, Effu:50%, Mass:50%, Pleu:50%, Pneu:50%\n",
            "\n",
            "\n",
            "Original: \n",
            "Predicted: Card:50%, Cons:50%, Mass:50%, Pneu:50%\n",
            "\n",
            "\n",
            "Original: \n",
            "Predicted: Card:50%, Cons:50%, Mass:50%, Pleu:50%, Pneu:50%\n",
            "\n",
            "\n",
            "Original: Pneu\n",
            "Predicted: Card:50%, Cons:50%, Mass:50%, Pleu:50%, Pneu:50%\n",
            "\n",
            "\n",
            "Original: \n",
            "Predicted: Card:50%, Cons:50%, Mass:50%, Pleu:50%, Pneu:50%\n",
            "\n",
            "\n",
            "Original: \n",
            "Predicted: Cons:50%, Effu:50%, Mass:50%, Pleu:50%, Pneu:50%\n",
            "\n",
            "\n",
            "Original: \n",
            "Predicted: Card:50%, Cons:50%, Mass:50%, Pleu:50%, Pneu:50%\n",
            "\n",
            "\n",
            "Original: \n",
            "Predicted: Card:50%, Cons:50%, Effu:50%, Pleu:50%, Pneu:50%\n",
            "\n",
            "\n",
            "Original: Pneu\n",
            "Predicted: Card:50%, Mass:50%, Pleu:50%, Pneu:50%\n",
            "\n",
            "\n",
            "Original: \n",
            "Predicted: Card:50%, Cons:50%, Pleu:50%, Pneu:50%\n",
            "\n",
            "\n",
            "Original: Cons\n",
            "Predicted: Cons:50%, Pleu:50%, Pneu:50%\n",
            "\n",
            "\n",
            "Original: Infi\n",
            "Predicted: Card:50%, Cons:50%, Infi:50%, Mass:50%, Pleu:50%, Pneu:50%\n",
            "\n",
            "\n",
            "Original: \n",
            "Predicted: Card:50%, Cons:50%, Effu:50%, Mass:50%, Pleu:50%, Pneu:50%\n",
            "\n",
            "\n",
            "Original: \n",
            "Predicted: Card:50%, Cons:50%, Effu:50%, Mass:50%, Pleu:50%, Pneu:50%\n",
            "\n",
            "\n",
            "Original: Mass\n",
            "Predicted: Card:50%, Cons:50%, Effu:50%, Mass:50%, Pleu:50%, Pneu:50%\n",
            "\n",
            "\n",
            "Original: \n",
            "Predicted: Card:50%, Cons:50%, Mass:50%, Pleu:50%, Pneu:50%\n",
            "\n",
            "\n",
            "Original: Infi\n",
            "Predicted: Infi:50%, Pleu:50%, Pneu:50%\n",
            "\n",
            "\n",
            "Original: \n",
            "Predicted: Card:50%, Pleu:50%, Pneu:50%\n",
            "\n",
            "\n",
            "Original: Effu\n",
            "Predicted: Card:50%, Effu:50%, Mass:50%, Pleu:50%, Pneu:50%\n",
            "\n",
            "\n",
            "Original: Effu\n",
            "Predicted: Card:50%, Cons:50%, Effu:50%, Mass:50%, Pleu:50%, Pneu:50%\n",
            "\n",
            "\n",
            "Original: Pleu\n",
            "Predicted: Card:50%, Cons:50%, Mass:50%, Pleu:50%, Pneu:50%\n",
            "\n",
            "\n",
            "Original: Mass\n",
            "Predicted: Card:50%, Cons:50%, Mass:50%, Pleu:50%, Pneu:50%\n",
            "\n",
            "\n",
            "Original: \n",
            "Predicted: Card:50%, Pleu:50%, Pneu:50%\n",
            "\n",
            "\n",
            "Original: \n",
            "Predicted: Card:50%, Cons:50%, Mass:50%, Pleu:50%, Pneu:50%\n",
            "\n",
            "\n",
            "Original: Atel, Infi\n",
            "Predicted: Atel:50%, Cons:50%, Infi:50%, Mass:50%, Pleu:50%, Pneu:50%\n",
            "\n",
            "\n",
            "Original: Effu, Pneu\n",
            "Predicted: Card:50%, Cons:50%, Effu:50%, Mass:50%, Pleu:50%, Pneu:50%\n",
            "\n",
            "\n",
            "Original: Atel, Infi\n",
            "Predicted: Atel:50%, Card:50%, Cons:50%, Infi:50%, Pleu:50%, Pneu:50%\n",
            "\n",
            "\n",
            "Original: Edem, Infi\n",
            "Predicted: Card:50%, Cons:50%, Edem:49%, Infi:50%, Pleu:50%, Pneu:50%\n",
            "\n",
            "\n",
            "Original: Edem, Effu, Infi\n",
            "Predicted: Card:50%, Cons:50%, Edem:50%, Effu:50%, Infi:50%, Pleu:50%, Pneu:50%\n",
            "\n",
            "\n",
            "Original: Effu, Infi\n",
            "Predicted: Card:50%, Cons:50%, Effu:50%, Infi:50%, Mass:50%, Pleu:50%, Pneu:50%\n",
            "\n",
            "\n",
            "Original: Atel, Pneu\n",
            "Predicted: Atel:50%, Card:50%, Cons:50%, Mass:50%, Pleu:50%, Pneu:50%\n",
            "\n",
            "\n",
            "Original: Effu, Mass, Nodu\n",
            "Predicted: Effu:50%, Mass:50%, Nodu:49%, Pleu:50%, Pneu:50%\n",
            "\n",
            "\n",
            "Original: Card, Edem, Mass\n",
            "Predicted: Card:50%, Cons:50%, Edem:50%, Effu:50%, Mass:50%, Pleu:50%, Pneu:50%\n",
            "\n",
            "\n",
            "Original: Edem, Infi\n",
            "Predicted: Cons:50%, Edem:50%, Effu:50%, Infi:50%, Mass:50%, Pneu:50%\n",
            "\n",
            "\n",
            "Original: Effu, Infi\n",
            "Predicted: Card:50%, Cons:50%, Effu:50%, Infi:50%, Pleu:50%, Pneu:50%\n",
            "\n",
            "\n",
            "Original: Cons, Effu\n",
            "Predicted: Card:50%, Cons:50%, Effu:50%, Mass:50%, Pleu:50%, Pneu:50%\n",
            "\n",
            "\n",
            "Original: Effu, Infi\n",
            "Predicted: Effu:50%, Infi:50%, Mass:50%, Pleu:50%, Pneu:50%\n",
            "\n",
            "\n",
            "Original: Atel, Cons, Effu\n",
            "Predicted: Atel:50%, Card:50%, Cons:50%, Effu:50%, Mass:50%, Pleu:50%, Pneu:50%\n",
            "\n",
            "\n",
            "Original: Atel, Cons, Effu\n",
            "Predicted: Atel:50%, Card:50%, Cons:50%, Effu:50%, Mass:50%, Pleu:50%, Pneu:50%\n",
            "\n",
            "\n",
            "Original: Effu, Pleu\n",
            "Predicted: Card:50%, Cons:50%, Effu:50%, Mass:50%, Pleu:50%, Pneu:50%\n",
            "\n",
            "\n",
            "Original: Infi, Nodu\n",
            "Predicted: Cons:50%, Infi:50%, Nodu:49%, Pleu:50%, Pneu:50%\n",
            "\n",
            "\n",
            "Original: Atel, Effu, Infi\n",
            "Predicted: Atel:49%, Card:50%, Cons:50%, Effu:50%, Infi:50%, Pleu:50%, Pneu:50%\n",
            "\n",
            "\n",
            "Original: Infi, Mass\n",
            "Predicted: Card:50%, Cons:50%, Infi:50%, Mass:50%, Pleu:50%, Pneu:50%\n",
            "\n",
            "\n",
            "Original: Effu, Infi\n",
            "Predicted: Effu:50%, Infi:50%, Mass:50%, Pneu:50%\n",
            "\n",
            "\n",
            "Original: Effu, Emph\n",
            "Predicted: Card:50%, Effu:50%, Emph:50%, Pleu:50%, Pneu:50%\n",
            "\n",
            "\n",
            "Original: Mass, Nodu\n",
            "Predicted: Mass:50%, Nodu:49%, Pleu:50%, Pneu:50%\n",
            "\n",
            "\n",
            "Original: Atel, Emph\n",
            "Predicted: Atel:50%, Emph:50%, Mass:50%, Pneu:50%\n",
            "\n",
            "\n",
            "Original: Emph, Pneu\n",
            "Predicted: Card:50%, Cons:50%, Effu:50%, Emph:50%, Mass:50%, Pleu:50%, Pneu:50%\n",
            "\n",
            "\n",
            "Original: Infi, Mass\n",
            "Predicted: Card:50%, Cons:50%, Effu:50%, Infi:50%, Mass:50%, Pleu:50%, Pneu:50%\n",
            "\n",
            "\n",
            "Original: Cons, Mass\n",
            "Predicted: Card:50%, Cons:50%, Mass:50%, Pleu:50%, Pneu:50%\n",
            "\n",
            "\n",
            "Original: Emph, Pneu\n",
            "Predicted: Card:50%, Cons:50%, Emph:50%, Pleu:50%, Pneu:50%\n",
            "\n",
            "\n",
            "Original: Atel, Infi\n",
            "Predicted: Atel:50%, Card:50%, Infi:50%, Mass:50%, Pneu:50%\n",
            "\n",
            "\n",
            "Original: Effu, Infi\n",
            "Predicted: Card:50%, Cons:50%, Effu:50%, Infi:50%, Pleu:50%, Pneu:50%\n",
            "\n",
            "\n",
            "Original: Cons, Infi\n",
            "Predicted: Cons:50%, Effu:50%, Infi:50%, Mass:50%, Pleu:50%, Pneu:50%\n",
            "\n",
            "\n",
            "Original: Mass, Nodu\n",
            "Predicted: Card:50%, Cons:50%, Mass:50%, Nodu:50%, Pleu:50%, Pneu:50%\n",
            "\n",
            "\n",
            "Original: Edem, Infi\n",
            "Predicted: Card:50%, Cons:50%, Edem:49%, Infi:50%, Mass:50%, Pleu:50%, Pneu:50%\n",
            "\n",
            "\n",
            "Original: Atel, Nodu\n",
            "Predicted: Atel:50%, Card:50%, Cons:50%, Effu:50%, Nodu:49%, Pleu:50%, Pneu:50%\n",
            "\n",
            "\n",
            "Original: Atel, Cons, Edem, Effu, Infi\n",
            "Predicted: Atel:50%, Card:50%, Cons:50%, Edem:49%, Effu:50%, Infi:50%, Pleu:50%, Pneu:50%\n",
            "\n",
            "\n"
          ],
          "name": "stdout"
        }
      ]
    },
    {
      "metadata": {
        "id": "xe9x7XDOn_aN",
        "colab_type": "code",
        "colab": {
          "base_uri": "https://localhost:8080/",
          "height": 376
        },
        "outputId": "6d59fe0e-229a-497a-ba0e-c650aeb9b3bf"
      },
      "cell_type": "code",
      "source": [
        "from matplotlib import pyplot\n",
        "pyplot.plot(history.history['loss'])\n",
        "pyplot.plot(history.history['val_loss'])\n",
        "pyplot.title('model train vs validation loss')\n",
        "pyplot.ylabel('loss')\n",
        "pyplot.xlabel('epoch')\n",
        "pyplot.legend(['train', 'validation'], loc='upper right')\n",
        "pyplot.show()\n"
      ],
      "execution_count": 32,
      "outputs": [
        {
          "output_type": "display_data",
          "data": {
            "image/png": "[encoded data removed]",
            "text/plain": [
              "<matplotlib.figure.Figure at 0x7f0148eda8d0>"
            ]
          },
          "metadata": {
            "tags": []
          }
        }
      ]
    }
  ]
}